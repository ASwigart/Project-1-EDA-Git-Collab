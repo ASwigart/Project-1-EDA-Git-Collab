{
 "cells": [
  {
   "cell_type": "code",
   "execution_count": 2,
   "id": "f300c37f",
   "metadata": {},
   "outputs": [],
   "source": [
    "import requests\n",
    "import pandas as pd\n",
    "import numpy as np\n",
    "import matplotlib.pyplot as plt\n",
    "# import statsmodels.api as sm\n",
    "# import pingouin as pg\n",
    "import scipy.stats as stats\n",
    "import json\n",
    "\n",
    "# from statsmodels.formula.api import ols\n",
    "# from statsmodels.stats. weightstats import ttest_ind\n"
   ]
  },
  {
   "cell_type": "code",
   "execution_count": 3,
   "id": "b03df1c7",
   "metadata": {},
   "outputs": [],
   "source": [
    "merged_df = pd.read_csv(\"merged_df.csv\")\n",
    "chi_df = pd.read_csv(r\"chicagorent.csv\")\n",
    "chimean_df = pd.read_csv(\"chicagomean.csv\")"
   ]
  },
  {
   "cell_type": "code",
   "execution_count": 4,
   "id": "fd5f3ca0",
   "metadata": {},
   "outputs": [
    {
     "data": {
      "text/html": [
       "<div>\n",
       "<style scoped>\n",
       "    .dataframe tbody tr th:only-of-type {\n",
       "        vertical-align: middle;\n",
       "    }\n",
       "\n",
       "    .dataframe tbody tr th {\n",
       "        vertical-align: top;\n",
       "    }\n",
       "\n",
       "    .dataframe thead th {\n",
       "        text-align: right;\n",
       "    }\n",
       "</style>\n",
       "<table border=\"1\" class=\"dataframe\">\n",
       "  <thead>\n",
       "    <tr style=\"text-align: right;\">\n",
       "      <th></th>\n",
       "      <th>prop_address_zipcode_1</th>\n",
       "      <th>pin</th>\n",
       "      <th>year</th>\n",
       "      <th>board_tot</th>\n",
       "      <th>board_tot_num</th>\n",
       "    </tr>\n",
       "  </thead>\n",
       "  <tbody>\n",
       "    <tr>\n",
       "      <th>0</th>\n",
       "      <td>60618</td>\n",
       "      <td>13232020401002</td>\n",
       "      <td>2020</td>\n",
       "      <td>31000</td>\n",
       "      <td>31000</td>\n",
       "    </tr>\n",
       "    <tr>\n",
       "      <th>1</th>\n",
       "      <td>60618</td>\n",
       "      <td>14183000410000</td>\n",
       "      <td>2020</td>\n",
       "      <td>27239</td>\n",
       "      <td>27239</td>\n",
       "    </tr>\n",
       "    <tr>\n",
       "      <th>2</th>\n",
       "      <td>60618</td>\n",
       "      <td>13241190400000</td>\n",
       "      <td>2017</td>\n",
       "      <td>59315</td>\n",
       "      <td>59315</td>\n",
       "    </tr>\n",
       "  </tbody>\n",
       "</table>\n",
       "</div>"
      ],
      "text/plain": [
       "   prop_address_zipcode_1             pin  year  board_tot  board_tot_num\n",
       "0                   60618  13232020401002  2020      31000          31000\n",
       "1                   60618  14183000410000  2020      27239          27239\n",
       "2                   60618  13241190400000  2017      59315          59315"
      ]
     },
     "execution_count": 4,
     "metadata": {},
     "output_type": "execute_result"
    }
   ],
   "source": [
    "merged_df.head(3)"
   ]
  },
  {
   "cell_type": "code",
   "execution_count": 5,
   "id": "79b98075",
   "metadata": {},
   "outputs": [
    {
     "data": {
      "text/html": [
       "<div>\n",
       "<style scoped>\n",
       "    .dataframe tbody tr th:only-of-type {\n",
       "        vertical-align: middle;\n",
       "    }\n",
       "\n",
       "    .dataframe tbody tr th {\n",
       "        vertical-align: top;\n",
       "    }\n",
       "\n",
       "    .dataframe thead th {\n",
       "        text-align: right;\n",
       "    }\n",
       "</style>\n",
       "<table border=\"1\" class=\"dataframe\">\n",
       "  <thead>\n",
       "    <tr style=\"text-align: right;\">\n",
       "      <th></th>\n",
       "      <th>Zip_Code</th>\n",
       "      <th>2016-01</th>\n",
       "      <th>2016-02</th>\n",
       "      <th>2016-03</th>\n",
       "      <th>2016-04</th>\n",
       "      <th>2016-05</th>\n",
       "      <th>2016-06</th>\n",
       "      <th>2016-07</th>\n",
       "      <th>2016-08</th>\n",
       "      <th>2016-09</th>\n",
       "      <th>...</th>\n",
       "      <th>2021-09</th>\n",
       "      <th>2021-10</th>\n",
       "      <th>2021-11</th>\n",
       "      <th>2021-12</th>\n",
       "      <th>2022-01</th>\n",
       "      <th>2022-02</th>\n",
       "      <th>2022-03</th>\n",
       "      <th>2022-04</th>\n",
       "      <th>2022-05</th>\n",
       "      <th>2022-06</th>\n",
       "    </tr>\n",
       "  </thead>\n",
       "  <tbody>\n",
       "    <tr>\n",
       "      <th>0</th>\n",
       "      <td>60614</td>\n",
       "      <td>1773.0</td>\n",
       "      <td>1796.0</td>\n",
       "      <td>1805.0</td>\n",
       "      <td>1820.0</td>\n",
       "      <td>1854.0</td>\n",
       "      <td>1875.0</td>\n",
       "      <td>1875.0</td>\n",
       "      <td>1873.0</td>\n",
       "      <td>1864.0</td>\n",
       "      <td>...</td>\n",
       "      <td>2014.0</td>\n",
       "      <td>2026.0</td>\n",
       "      <td>2039.0</td>\n",
       "      <td>2025.0</td>\n",
       "      <td>2054.0</td>\n",
       "      <td>2075.0</td>\n",
       "      <td>2144.0</td>\n",
       "      <td>2193.0</td>\n",
       "      <td>2207.0</td>\n",
       "      <td>2230.0</td>\n",
       "    </tr>\n",
       "    <tr>\n",
       "      <th>1</th>\n",
       "      <td>60647</td>\n",
       "      <td>1549.0</td>\n",
       "      <td>1568.0</td>\n",
       "      <td>1577.0</td>\n",
       "      <td>1595.0</td>\n",
       "      <td>1610.0</td>\n",
       "      <td>1621.0</td>\n",
       "      <td>1630.0</td>\n",
       "      <td>1618.0</td>\n",
       "      <td>1596.0</td>\n",
       "      <td>...</td>\n",
       "      <td>1746.0</td>\n",
       "      <td>1752.0</td>\n",
       "      <td>1792.0</td>\n",
       "      <td>1801.0</td>\n",
       "      <td>1805.0</td>\n",
       "      <td>1837.0</td>\n",
       "      <td>1861.0</td>\n",
       "      <td>1887.0</td>\n",
       "      <td>1905.0</td>\n",
       "      <td>1902.0</td>\n",
       "    </tr>\n",
       "    <tr>\n",
       "      <th>2</th>\n",
       "      <td>60618</td>\n",
       "      <td>1415.0</td>\n",
       "      <td>1429.0</td>\n",
       "      <td>1431.0</td>\n",
       "      <td>1441.0</td>\n",
       "      <td>1449.0</td>\n",
       "      <td>1464.0</td>\n",
       "      <td>1465.0</td>\n",
       "      <td>1466.0</td>\n",
       "      <td>1468.0</td>\n",
       "      <td>...</td>\n",
       "      <td>1589.0</td>\n",
       "      <td>1605.0</td>\n",
       "      <td>1605.0</td>\n",
       "      <td>1618.0</td>\n",
       "      <td>1650.0</td>\n",
       "      <td>1654.0</td>\n",
       "      <td>1670.0</td>\n",
       "      <td>1681.0</td>\n",
       "      <td>1702.0</td>\n",
       "      <td>1702.0</td>\n",
       "    </tr>\n",
       "  </tbody>\n",
       "</table>\n",
       "<p>3 rows × 79 columns</p>\n",
       "</div>"
      ],
      "text/plain": [
       "   Zip_Code  2016-01  2016-02  2016-03  2016-04  2016-05  2016-06  2016-07  \\\n",
       "0     60614   1773.0   1796.0   1805.0   1820.0   1854.0   1875.0   1875.0   \n",
       "1     60647   1549.0   1568.0   1577.0   1595.0   1610.0   1621.0   1630.0   \n",
       "2     60618   1415.0   1429.0   1431.0   1441.0   1449.0   1464.0   1465.0   \n",
       "\n",
       "   2016-08  2016-09  ...  2021-09  2021-10  2021-11  2021-12  2022-01  \\\n",
       "0   1873.0   1864.0  ...   2014.0   2026.0   2039.0   2025.0   2054.0   \n",
       "1   1618.0   1596.0  ...   1746.0   1752.0   1792.0   1801.0   1805.0   \n",
       "2   1466.0   1468.0  ...   1589.0   1605.0   1605.0   1618.0   1650.0   \n",
       "\n",
       "   2022-02  2022-03  2022-04  2022-05  2022-06  \n",
       "0   2075.0   2144.0   2193.0   2207.0   2230.0  \n",
       "1   1837.0   1861.0   1887.0   1905.0   1902.0  \n",
       "2   1654.0   1670.0   1681.0   1702.0   1702.0  \n",
       "\n",
       "[3 rows x 79 columns]"
      ]
     },
     "execution_count": 5,
     "metadata": {},
     "output_type": "execute_result"
    }
   ],
   "source": [
    "chi_df.head(3)"
   ]
  },
  {
   "cell_type": "code",
   "execution_count": 6,
   "id": "5e3ad33c",
   "metadata": {
    "scrolled": true
   },
   "outputs": [
    {
     "data": {
      "text/html": [
       "<div>\n",
       "<style scoped>\n",
       "    .dataframe tbody tr th:only-of-type {\n",
       "        vertical-align: middle;\n",
       "    }\n",
       "\n",
       "    .dataframe tbody tr th {\n",
       "        vertical-align: top;\n",
       "    }\n",
       "\n",
       "    .dataframe thead th {\n",
       "        text-align: right;\n",
       "    }\n",
       "</style>\n",
       "<table border=\"1\" class=\"dataframe\">\n",
       "  <thead>\n",
       "    <tr style=\"text-align: right;\">\n",
       "      <th></th>\n",
       "      <th>Unnamed: 0</th>\n",
       "      <th>60614</th>\n",
       "      <th>60647</th>\n",
       "      <th>60618</th>\n",
       "      <th>60625</th>\n",
       "      <th>60608</th>\n",
       "      <th>60624</th>\n",
       "    </tr>\n",
       "  </thead>\n",
       "  <tbody>\n",
       "    <tr>\n",
       "      <th>0</th>\n",
       "      <td>2016-12-31</td>\n",
       "      <td>1829.000000</td>\n",
       "      <td>1587.333333</td>\n",
       "      <td>1447.833333</td>\n",
       "      <td>1284.750000</td>\n",
       "      <td>1305.666667</td>\n",
       "      <td>1193.916667</td>\n",
       "    </tr>\n",
       "    <tr>\n",
       "      <th>1</th>\n",
       "      <td>2017-12-31</td>\n",
       "      <td>1861.250000</td>\n",
       "      <td>1624.666667</td>\n",
       "      <td>1477.250000</td>\n",
       "      <td>1312.916667</td>\n",
       "      <td>1328.500000</td>\n",
       "      <td>1216.750000</td>\n",
       "    </tr>\n",
       "    <tr>\n",
       "      <th>2</th>\n",
       "      <td>2018-12-31</td>\n",
       "      <td>1889.916667</td>\n",
       "      <td>1667.083333</td>\n",
       "      <td>1511.583333</td>\n",
       "      <td>1339.083333</td>\n",
       "      <td>1381.166667</td>\n",
       "      <td>1251.500000</td>\n",
       "    </tr>\n",
       "    <tr>\n",
       "      <th>3</th>\n",
       "      <td>2019-12-31</td>\n",
       "      <td>1943.833333</td>\n",
       "      <td>1730.333333</td>\n",
       "      <td>1552.666667</td>\n",
       "      <td>1366.916667</td>\n",
       "      <td>1432.416667</td>\n",
       "      <td>1265.500000</td>\n",
       "    </tr>\n",
       "    <tr>\n",
       "      <th>4</th>\n",
       "      <td>2020-12-31</td>\n",
       "      <td>1927.000000</td>\n",
       "      <td>1717.833333</td>\n",
       "      <td>1559.666667</td>\n",
       "      <td>1374.750000</td>\n",
       "      <td>1433.166667</td>\n",
       "      <td>1286.916667</td>\n",
       "    </tr>\n",
       "    <tr>\n",
       "      <th>5</th>\n",
       "      <td>2021-12-31</td>\n",
       "      <td>1971.416667</td>\n",
       "      <td>1739.333333</td>\n",
       "      <td>1585.333333</td>\n",
       "      <td>1386.416667</td>\n",
       "      <td>1452.500000</td>\n",
       "      <td>1307.750000</td>\n",
       "    </tr>\n",
       "    <tr>\n",
       "      <th>6</th>\n",
       "      <td>2022-12-31</td>\n",
       "      <td>2150.500000</td>\n",
       "      <td>1866.166667</td>\n",
       "      <td>1676.500000</td>\n",
       "      <td>1462.500000</td>\n",
       "      <td>1535.833333</td>\n",
       "      <td>1360.500000</td>\n",
       "    </tr>\n",
       "  </tbody>\n",
       "</table>\n",
       "</div>"
      ],
      "text/plain": [
       "   Unnamed: 0        60614        60647        60618        60625  \\\n",
       "0  2016-12-31  1829.000000  1587.333333  1447.833333  1284.750000   \n",
       "1  2017-12-31  1861.250000  1624.666667  1477.250000  1312.916667   \n",
       "2  2018-12-31  1889.916667  1667.083333  1511.583333  1339.083333   \n",
       "3  2019-12-31  1943.833333  1730.333333  1552.666667  1366.916667   \n",
       "4  2020-12-31  1927.000000  1717.833333  1559.666667  1374.750000   \n",
       "5  2021-12-31  1971.416667  1739.333333  1585.333333  1386.416667   \n",
       "6  2022-12-31  2150.500000  1866.166667  1676.500000  1462.500000   \n",
       "\n",
       "         60608        60624  \n",
       "0  1305.666667  1193.916667  \n",
       "1  1328.500000  1216.750000  \n",
       "2  1381.166667  1251.500000  \n",
       "3  1432.416667  1265.500000  \n",
       "4  1433.166667  1286.916667  \n",
       "5  1452.500000  1307.750000  \n",
       "6  1535.833333  1360.500000  "
      ]
     },
     "execution_count": 6,
     "metadata": {},
     "output_type": "execute_result"
    }
   ],
   "source": [
    "chimean_df"
   ]
  },
  {
   "cell_type": "code",
   "execution_count": 26,
   "id": "9cd590a2",
   "metadata": {},
   "outputs": [
    {
     "data": {
      "text/html": [
       "<div>\n",
       "<style scoped>\n",
       "    .dataframe tbody tr th:only-of-type {\n",
       "        vertical-align: middle;\n",
       "    }\n",
       "\n",
       "    .dataframe tbody tr th {\n",
       "        vertical-align: top;\n",
       "    }\n",
       "\n",
       "    .dataframe thead th {\n",
       "        text-align: right;\n",
       "    }\n",
       "</style>\n",
       "<table border=\"1\" class=\"dataframe\">\n",
       "  <thead>\n",
       "    <tr style=\"text-align: right;\">\n",
       "      <th></th>\n",
       "      <th>prop_address_zipcode_1</th>\n",
       "      <th>pin</th>\n",
       "      <th>year</th>\n",
       "      <th>board_tot</th>\n",
       "      <th>board_tot_num</th>\n",
       "    </tr>\n",
       "  </thead>\n",
       "  <tbody>\n",
       "    <tr>\n",
       "      <th>34310</th>\n",
       "      <td>60608</td>\n",
       "      <td>17204020381002</td>\n",
       "      <td>2020</td>\n",
       "      <td>10558</td>\n",
       "      <td>10558</td>\n",
       "    </tr>\n",
       "    <tr>\n",
       "      <th>34311</th>\n",
       "      <td>60608</td>\n",
       "      <td>17204020381039</td>\n",
       "      <td>2020</td>\n",
       "      <td>27823</td>\n",
       "      <td>27823</td>\n",
       "    </tr>\n",
       "    <tr>\n",
       "      <th>34312</th>\n",
       "      <td>60608</td>\n",
       "      <td>17302000280000</td>\n",
       "      <td>2017</td>\n",
       "      <td>22260</td>\n",
       "      <td>22260</td>\n",
       "    </tr>\n",
       "    <tr>\n",
       "      <th>34313</th>\n",
       "      <td>60608</td>\n",
       "      <td>17301020180000</td>\n",
       "      <td>2020</td>\n",
       "      <td>21492</td>\n",
       "      <td>21492</td>\n",
       "    </tr>\n",
       "    <tr>\n",
       "      <th>34314</th>\n",
       "      <td>60608</td>\n",
       "      <td>17311140470000</td>\n",
       "      <td>2020</td>\n",
       "      <td>19192</td>\n",
       "      <td>19192</td>\n",
       "    </tr>\n",
       "    <tr>\n",
       "      <th>...</th>\n",
       "      <td>...</td>\n",
       "      <td>...</td>\n",
       "      <td>...</td>\n",
       "      <td>...</td>\n",
       "      <td>...</td>\n",
       "    </tr>\n",
       "    <tr>\n",
       "      <th>45832</th>\n",
       "      <td>60608</td>\n",
       "      <td>17293140310000</td>\n",
       "      <td>2019</td>\n",
       "      <td>27681</td>\n",
       "      <td>27681</td>\n",
       "    </tr>\n",
       "    <tr>\n",
       "      <th>45833</th>\n",
       "      <td>60608</td>\n",
       "      <td>17204100260000</td>\n",
       "      <td>2016</td>\n",
       "      <td>26705</td>\n",
       "      <td>26705</td>\n",
       "    </tr>\n",
       "    <tr>\n",
       "      <th>45834</th>\n",
       "      <td>60608</td>\n",
       "      <td>17293140010000</td>\n",
       "      <td>2018</td>\n",
       "      <td>46572</td>\n",
       "      <td>46572</td>\n",
       "    </tr>\n",
       "    <tr>\n",
       "      <th>45835</th>\n",
       "      <td>60608</td>\n",
       "      <td>17203050400000</td>\n",
       "      <td>2018</td>\n",
       "      <td>24148</td>\n",
       "      <td>24148</td>\n",
       "    </tr>\n",
       "    <tr>\n",
       "      <th>45836</th>\n",
       "      <td>60608</td>\n",
       "      <td>17301020491002</td>\n",
       "      <td>2018</td>\n",
       "      <td>17950</td>\n",
       "      <td>17950</td>\n",
       "    </tr>\n",
       "  </tbody>\n",
       "</table>\n",
       "<p>11527 rows × 5 columns</p>\n",
       "</div>"
      ],
      "text/plain": [
       "       prop_address_zipcode_1             pin  year  board_tot  board_tot_num\n",
       "34310                   60608  17204020381002  2020      10558          10558\n",
       "34311                   60608  17204020381039  2020      27823          27823\n",
       "34312                   60608  17302000280000  2017      22260          22260\n",
       "34313                   60608  17301020180000  2020      21492          21492\n",
       "34314                   60608  17311140470000  2020      19192          19192\n",
       "...                       ...             ...   ...        ...            ...\n",
       "45832                   60608  17293140310000  2019      27681          27681\n",
       "45833                   60608  17204100260000  2016      26705          26705\n",
       "45834                   60608  17293140010000  2018      46572          46572\n",
       "45835                   60608  17203050400000  2018      24148          24148\n",
       "45836                   60608  17301020491002  2018      17950          17950\n",
       "\n",
       "[11527 rows x 5 columns]"
      ]
     },
     "execution_count": 26,
     "metadata": {},
     "output_type": "execute_result"
    }
   ],
   "source": [
    "df_60608 = merged_df.loc[merged_df[\"prop_address_zipcode_1\"] == 60608]\n",
    "df_60608"
   ]
  },
  {
   "cell_type": "code",
   "execution_count": 44,
   "id": "84cd5e2d",
   "metadata": {},
   "outputs": [
    {
     "data": {
      "text/html": [
       "<div>\n",
       "<style scoped>\n",
       "    .dataframe tbody tr th:only-of-type {\n",
       "        vertical-align: middle;\n",
       "    }\n",
       "\n",
       "    .dataframe tbody tr th {\n",
       "        vertical-align: top;\n",
       "    }\n",
       "\n",
       "    .dataframe thead th {\n",
       "        text-align: right;\n",
       "    }\n",
       "</style>\n",
       "<table border=\"1\" class=\"dataframe\">\n",
       "  <thead>\n",
       "    <tr style=\"text-align: right;\">\n",
       "      <th></th>\n",
       "      <th>prop_address_zipcode_1</th>\n",
       "      <th>pin</th>\n",
       "      <th>board_tot</th>\n",
       "      <th>board_tot_num</th>\n",
       "    </tr>\n",
       "    <tr>\n",
       "      <th>year</th>\n",
       "      <th></th>\n",
       "      <th></th>\n",
       "      <th></th>\n",
       "      <th></th>\n",
       "    </tr>\n",
       "  </thead>\n",
       "  <tbody>\n",
       "    <tr>\n",
       "      <th>2016</th>\n",
       "      <td>60608.0</td>\n",
       "      <td>1.713238e+13</td>\n",
       "      <td>25235.443032</td>\n",
       "      <td>25235.443032</td>\n",
       "    </tr>\n",
       "    <tr>\n",
       "      <th>2017</th>\n",
       "      <td>60608.0</td>\n",
       "      <td>1.715206e+13</td>\n",
       "      <td>26660.130075</td>\n",
       "      <td>26660.130075</td>\n",
       "    </tr>\n",
       "    <tr>\n",
       "      <th>2018</th>\n",
       "      <td>60608.0</td>\n",
       "      <td>1.716898e+13</td>\n",
       "      <td>26613.571975</td>\n",
       "      <td>26613.571975</td>\n",
       "    </tr>\n",
       "    <tr>\n",
       "      <th>2019</th>\n",
       "      <td>60608.0</td>\n",
       "      <td>1.713704e+13</td>\n",
       "      <td>34934.836695</td>\n",
       "      <td>34934.836695</td>\n",
       "    </tr>\n",
       "    <tr>\n",
       "      <th>2020</th>\n",
       "      <td>60608.0</td>\n",
       "      <td>1.713694e+13</td>\n",
       "      <td>31044.603919</td>\n",
       "      <td>31044.603919</td>\n",
       "    </tr>\n",
       "    <tr>\n",
       "      <th>2021</th>\n",
       "      <td>60608.0</td>\n",
       "      <td>1.624255e+13</td>\n",
       "      <td>9038.000000</td>\n",
       "      <td>9038.000000</td>\n",
       "    </tr>\n",
       "  </tbody>\n",
       "</table>\n",
       "</div>"
      ],
      "text/plain": [
       "      prop_address_zipcode_1           pin     board_tot  board_tot_num\n",
       "year                                                                   \n",
       "2016                 60608.0  1.713238e+13  25235.443032   25235.443032\n",
       "2017                 60608.0  1.715206e+13  26660.130075   26660.130075\n",
       "2018                 60608.0  1.716898e+13  26613.571975   26613.571975\n",
       "2019                 60608.0  1.713704e+13  34934.836695   34934.836695\n",
       "2020                 60608.0  1.713694e+13  31044.603919   31044.603919\n",
       "2021                 60608.0  1.624255e+13   9038.000000    9038.000000"
      ]
     },
     "execution_count": 44,
     "metadata": {},
     "output_type": "execute_result"
    }
   ],
   "source": [
    "sorted60608_df=df_60608.groupby(by=\"year\").mean()\n",
    "\n",
    "sorted60608_df"
   ]
  },
  {
   "cell_type": "markdown",
   "id": "76a66a67",
   "metadata": {},
   "source": [
    "https://pandas.pydata.org/pandas-docs/version/0.13.1/visualization.html -->"
   ]
  },
  {
   "cell_type": "code",
   "execution_count": 48,
   "id": "a2338c30",
   "metadata": {},
   "outputs": [
    {
     "ename": "AttributeError",
     "evalue": "'AxesSubplot' object has no attribute 'unique'",
     "output_type": "error",
     "traceback": [
      "\u001b[0;31m---------------------------------------------------------------------------\u001b[0m",
      "\u001b[0;31mAttributeError\u001b[0m                            Traceback (most recent call last)",
      "Input \u001b[0;32mIn [48]\u001b[0m, in \u001b[0;36m<cell line: 4>\u001b[0;34m()\u001b[0m\n\u001b[1;32m      1\u001b[0m \u001b[38;5;66;03m#60608\u001b[39;00m\n\u001b[0;32m----> 4\u001b[0m x\u001b[38;5;241m=\u001b[39m \u001b[43msorted60608_df\u001b[49m\u001b[38;5;241;43m.\u001b[39;49m\u001b[43mplot\u001b[49m\u001b[43m(\u001b[49m\u001b[43muse_index\u001b[49m\u001b[38;5;241;43m=\u001b[39;49m\u001b[38;5;28;43;01mTrue\u001b[39;49;00m\u001b[43m)\u001b[49m\u001b[38;5;241;43m.\u001b[39;49m\u001b[43munique\u001b[49m\n\u001b[1;32m      5\u001b[0m y\u001b[38;5;241m=\u001b[39m sorted60608_df[\u001b[38;5;124m\"\u001b[39m\u001b[38;5;124mboard_tot_num\u001b[39m\u001b[38;5;124m\"\u001b[39m]\n\u001b[1;32m      6\u001b[0m \u001b[38;5;66;03m# y_axis_sorted = y_axis_data.sort_index(ascending=False)\u001b[39;00m\n\u001b[1;32m      7\u001b[0m \u001b[38;5;66;03m# changed this to yaxis_data, not sorted\u001b[39;00m\n",
      "\u001b[0;31mAttributeError\u001b[0m: 'AxesSubplot' object has no attribute 'unique'"
     ]
    },
    {
     "data": {
      "image/png": "[encoded data removed]",
      "text/plain": [
       "<Figure size 432x288 with 1 Axes>"
      ]
     },
     "metadata": {
      "needs_background": "light"
     },
     "output_type": "display_data"
    }
   ],
   "source": [
    "#60608\n",
    "\n",
    "\n",
    "x= sorted60608_df.plot(use_index=True).unique\n",
    "y= sorted60608_df[\"board_tot_num\"]\n",
    "# y_axis_sorted = y_axis_data.sort_index(ascending=False)\n",
    "# changed this to yaxis_data, not sorted\n",
    "plt.plot(x, y)\n",
    "\n",
    "plt.show()"
   ]
  },
  {
   "cell_type": "code",
   "execution_count": 19,
   "id": "9201b1b9",
   "metadata": {},
   "outputs": [
    {
     "data": {
      "image/png": "[encoded data removed]",
      "text/plain": [
       "<Figure size 432x288 with 1 Axes>"
      ]
     },
     "metadata": {
      "needs_background": "light"
     },
     "output_type": "display_data"
    }
   ],
   "source": [
    "#60608\n",
    "\n",
    "df_60608 = merged_df.loc[merged_df[\"prop_address_zipcode_1\"] == 60608]\n",
    "x_axis_data = df_60608[\"year\"].unique()\n",
    "y_axis_data = df_60608[\"board_tot\"].groupby(df_60608[\"year\"]).mean()\n",
    "y_axis_sorted = y_axis_data.sort_index(ascending=False)\n",
    "# changed this to yaxis_data, not sorted\n",
    "plt.plot(x_axis_data, y_axis_data)\n",
    "\n",
    "plt.show()"
   ]
  },
  {
   "cell_type": "code",
   "execution_count": 8,
   "id": "596ab6eb",
   "metadata": {},
   "outputs": [
    {
     "data": {
      "image/png": "[encoded data removed]",
      "text/plain": [
       "<Figure size 432x288 with 1 Axes>"
      ]
     },
     "metadata": {
      "needs_background": "light"
     },
     "output_type": "display_data"
    }
   ],
   "source": [
    "#60614\n",
    "\n",
    "df_60614 = merged_df.loc[merged_df[\"prop_address_zipcode_1\"] == 60614]\n",
    "x_axis_data = df_60614[\"year\"].unique()\n",
    "y_axis_data = df_60614[\"board_tot\"].groupby(df_60614[\"year\"]).mean()\n",
    "y_axis_sorted = y_axis_data.sort_values()\n",
    "plt.plot(x_axis_data, y_axis_sorted)\n",
    "\n",
    "plt.show()"
   ]
  },
  {
   "cell_type": "code",
   "execution_count": 9,
   "id": "5cdaa0ca",
   "metadata": {},
   "outputs": [
    {
     "data": {
      "image/png": "[encoded data removed]",
      "text/plain": [
       "<Figure size 432x288 with 1 Axes>"
      ]
     },
     "metadata": {
      "needs_background": "light"
     },
     "output_type": "display_data"
    }
   ],
   "source": [
    "#60618\n",
    "\n",
    "df_60618 = merged_df.loc[merged_df[\"prop_address_zipcode_1\"] == 60618]\n",
    "x_axis_data = df_60618[\"year\"].unique()\n",
    "y_axis_data = df_60618[\"board_tot\"].groupby(df_60618[\"year\"]).mean()\n",
    "y_axis_sorted = y_axis_data.sort_values()\n",
    "plt.plot(x_axis_data, y_axis_sorted)\n",
    "\n",
    "plt.show()"
   ]
  },
  {
   "cell_type": "code",
   "execution_count": 10,
   "id": "146d3b90",
   "metadata": {},
   "outputs": [
    {
     "data": {
      "image/png": "[encoded data removed]",
      "text/plain": [
       "<Figure size 432x288 with 1 Axes>"
      ]
     },
     "metadata": {
      "needs_background": "light"
     },
     "output_type": "display_data"
    }
   ],
   "source": [
    "#60624\n",
    "\n",
    "df_60624 = merged_df.loc[merged_df[\"prop_address_zipcode_1\"] == 60624]\n",
    "x_axis_data = df_60624[\"year\"].unique()\n",
    "y_axis_data = df_60624[\"board_tot\"].groupby(df_60624[\"year\"]).mean()\n",
    "y_axis_sorted = y_axis_data.sort_values()\n",
    "plt.plot(x_axis_data, y_axis_sorted)\n",
    "\n",
    "plt.show()"
   ]
  },
  {
   "cell_type": "code",
   "execution_count": 11,
   "id": "3b91fbd3",
   "metadata": {},
   "outputs": [
    {
     "data": {
      "image/png": "[encoded data removed]",
      "text/plain": [
       "<Figure size 432x288 with 1 Axes>"
      ]
     },
     "metadata": {
      "needs_background": "light"
     },
     "output_type": "display_data"
    }
   ],
   "source": [
    "#60625\n",
    "\n",
    "df_60625 = merged_df.loc[merged_df[\"prop_address_zipcode_1\"] == 60625]\n",
    "x_axis_data = df_60625[\"year\"].unique()\n",
    "y_axis_data = df_60625[\"board_tot\"].groupby(df_60625[\"year\"]).mean()\n",
    "y_axis_sorted = y_axis_data.sort_values()\n",
    "plt.plot(x_axis_data, y_axis_sorted)\n",
    "\n",
    "plt.show()"
   ]
  },
  {
   "cell_type": "code",
   "execution_count": 12,
   "id": "d151dd88",
   "metadata": {},
   "outputs": [
    {
     "data": {
      "image/png": "[encoded data removed]",
      "text/plain": [
       "<Figure size 432x288 with 1 Axes>"
      ]
     },
     "metadata": {
      "needs_background": "light"
     },
     "output_type": "display_data"
    }
   ],
   "source": [
    "#60647\n",
    "\n",
    "df_60647 = merged_df.loc[merged_df[\"prop_address_zipcode_1\"] == 60647]\n",
    "x_axis_data = df_60647[\"year\"].unique()\n",
    "y_axis_data = df_60647[\"board_tot\"].groupby(df_60647[\"year\"]).mean()\n",
    "y_axis_sorted = y_axis_data.sort_values()\n",
    "plt.plot(x_axis_data, y_axis_sorted)\n",
    "\n",
    "plt.show()"
   ]
  },
  {
   "cell_type": "code",
   "execution_count": null,
   "id": "a220f8a1",
   "metadata": {},
   "outputs": [],
   "source": []
  }
 ],
 "metadata": {
  "kernelspec": {
   "display_name": "Python 3 (ipykernel)",
   "language": "python",
   "name": "python3"
  },
  "language_info": {
   "codemirror_mode": {
    "name": "ipython",
    "version": 3
   },
   "file_extension": ".py",
   "mimetype": "text/x-python",
   "name": "python",
   "nbconvert_exporter": "python",
   "pygments_lexer": "ipython3",
   "version": "3.9.12"
  }
 },
 "nbformat": 4,
 "nbformat_minor": 5
}
