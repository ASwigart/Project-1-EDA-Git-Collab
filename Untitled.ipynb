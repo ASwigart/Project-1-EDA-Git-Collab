{
 "cells": [
  {
   "cell_type": "markdown",
   "id": "db6e6ffe",
   "metadata": {},
   "source": [
    "To get the zillow dataset imported"
   ]
  },
  {
   "cell_type": "code",
   "execution_count": 24,
   "id": "691123d6",
   "metadata": {},
   "outputs": [],
   "source": [
    "import requests\n",
    "import json\n",
    "from config import NasDkey\n",
    "# url=\"https://data.nasdaq.com/api/v3/datatables/ZILLOW/REGIONSindicator_id=ZSFH&region_id=99999\"\n"
   ]
  },
  {
   "cell_type": "code",
   "execution_count": null,
   "id": "033f7f6e",
   "metadata": {},
   "outputs": [],
   "source": [
    "# url = \"https://data.nasdaq.com/api/v3/datatables/ZILLOW/DATA?indicator_id=ZSFH&region_id=99999&api_key=\"\"\n",
    "    \n",
    "    "
   ]
  },
  {
   "cell_type": "code",
   "execution_count": 26,
   "id": "6721af72",
   "metadata": {},
   "outputs": [
    {
     "ename": "SyntaxError",
     "evalue": "EOL while scanning string literal (2206289870.py, line 1)",
     "output_type": "error",
     "traceback": [
      "\u001b[0;36m  Input \u001b[0;32mIn [26]\u001b[0;36m\u001b[0m\n\u001b[0;31m    response = requests.get(f'\"https://data.nasdaq.com/api/v3/datatables/ZILLOW/regions=ZSFH&region_id=99999&api_key={NasDkey}.json()\u001b[0m\n\u001b[0m                                                                                                                                     ^\u001b[0m\n\u001b[0;31mSyntaxError\u001b[0m\u001b[0;31m:\u001b[0m EOL while scanning string literal\n"
     ]
    }
   ],
   "source": [
    "response = requests.get(f'\"https://data.nasdaq.com/api/v3/datatables/ZILLOW/regions=ZSFH&region_id=99999&api_key={NasDkey}.json()\n",
    "\n",
    "response"
   ]
  },
  {
   "cell_type": "code",
   "execution_count": 23,
   "id": "d8684fde",
   "metadata": {},
   "outputs": [
    {
     "name": "stdout",
     "output_type": "stream",
     "text": [
      "{\n",
      "    \"quandl_error\": {\n",
      "        \"code\": \"QEPx04\",\n",
      "        \"message\": \"A valid API key is required to retrieve data. Please check your API key and try again. You can find your API key under your account settings.\"\n",
      "    }\n",
      "}\n"
     ]
    }
   ],
   "source": [
    "print(json.dumps(response, indent=4, sort_keys=True))"
   ]
  },
  {
   "cell_type": "code",
   "execution_count": null,
   "id": "8e58abd5",
   "metadata": {},
   "outputs": [],
   "source": [
    "zillow_df = pd.DataFrame(columns=[\"year\",\"zip code\",\"type\", \"Rent\", \"Property\"])"
   ]
  },
  {
   "cell_type": "code",
   "execution_count": null,
   "id": "c26dcaba",
   "metadata": {},
   "outputs": [],
   "source": [
    "variables to store =[]\n",
    "\n",
    "params = {\n",
    "        \"year\": 2016, 2017, 2018, 2019, 2020, 2021, 2022\n",
    "        \"zips\": 60618, 60632, 60639, 60623, 60647, 60629\n",
    "        \"type\":\n",
    "        \"rent\":\n",
    "        \"property\"\n",
    "        \"key\": NasDkey\n",
    "}\n",
    "\n",
    "\n",
    "response = requests.get(url + \"&api_key\" + NasDkey + \"&q=\" + query)\n",
    "limit=1\n",
    "for i in zillow_df.iterrows():\n",
    "    query_url =\n",
    "    zillow_response =requests.get(query_url)\n",
    "    zillow_json = zillow_response.json()\n",
    "    try:\n",
    "        zillow_data={\n",
    "            zip\n",
    "            rent\n",
    "            \n",
    "        }"
   ]
  },
  {
   "cell_type": "code",
   "execution_count": null,
   "id": "8705d59f",
   "metadata": {},
   "outputs": [],
   "source": []
  }
 ],
 "metadata": {
  "kernelspec": {
   "display_name": "Python 3 (ipykernel)",
   "language": "python",
   "name": "python3"
  },
  "language_info": {
   "codemirror_mode": {
    "name": "ipython",
    "version": 3
   },
   "file_extension": ".py",
   "mimetype": "text/x-python",
   "name": "python",
   "nbconvert_exporter": "python",
   "pygments_lexer": "ipython3",
   "version": "3.9.12"
  }
 },
 "nbformat": 4,
 "nbformat_minor": 5
}
