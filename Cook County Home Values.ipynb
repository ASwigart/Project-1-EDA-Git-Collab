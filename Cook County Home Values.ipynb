{
 "cells": [
  {
   "cell_type": "code",
   "execution_count": 57,
   "id": "33213f96",
   "metadata": {},
   "outputs": [],
   "source": [
    "#Dependencies\n",
    "import matplotlib.pyplot as plt\n",
    "import requests\n",
    "from pprint import pprint\n",
    "from scipy import stats\n",
    "import pandas as pd\n",
    "import numpy as np\n",
    "from api_keys import api_key\n",
    "import json"
   ]
  },
  {
   "cell_type": "code",
   "execution_count": 58,
   "id": "79b93564",
   "metadata": {},
   "outputs": [],
   "source": [
    "# !pip install sodapy"
   ]
  },
  {
   "cell_type": "code",
   "execution_count": 59,
   "id": "daf0874e",
   "metadata": {},
   "outputs": [],
   "source": [
    "from sodapy import Socrata\n",
    "\n",
    "client = Socrata(\"datacatalog.cookcountyil.gov\", \"a5adtglEZdwTXbUuRvAvPXv59\")"
   ]
  },
  {
   "cell_type": "code",
   "execution_count": 60,
   "id": "7ba456f3",
   "metadata": {},
   "outputs": [],
   "source": [
    "# zip_df = clean_zipcode_response(results)\n",
    "# zip_df.head(10)"
   ]
  },
  {
   "cell_type": "code",
   "execution_count": 61,
   "id": "18991b2e",
   "metadata": {},
   "outputs": [],
   "source": [
    "#List of zipcodes we want to look at\n",
    "\n",
    "zipcodes = [60618, 60647, 60625, 60608, 60624, 60614]\n"
   ]
  },
  {
   "cell_type": "code",
   "execution_count": 62,
   "id": "7b51c3b7",
   "metadata": {},
   "outputs": [],
   "source": [
    "#Declare function\n",
    "\n",
    "def clean_zipcode_response(api_response):\n",
    "    df = pd.DataFrame(api_response)\n",
    "    df[\"year\"] = df[\"year\"].astype('int')\n",
    "    df_limited_cols = df[[\"prop_address_zipcode_1\", \"pin\", \"year\"]]\n",
    "    return df_limited_cols"
   ]
  },
  {
   "cell_type": "code",
   "execution_count": 64,
   "id": "460be4cc",
   "metadata": {},
   "outputs": [
    {
     "data": {
      "text/html": [
       "<div>\n",
       "<style scoped>\n",
       "    .dataframe tbody tr th:only-of-type {\n",
       "        vertical-align: middle;\n",
       "    }\n",
       "\n",
       "    .dataframe tbody tr th {\n",
       "        vertical-align: top;\n",
       "    }\n",
       "\n",
       "    .dataframe thead th {\n",
       "        text-align: right;\n",
       "    }\n",
       "</style>\n",
       "<table border=\"1\" class=\"dataframe\">\n",
       "  <thead>\n",
       "    <tr style=\"text-align: right;\">\n",
       "      <th></th>\n",
       "      <th>prop_address_zipcode_1</th>\n",
       "      <th>pin</th>\n",
       "      <th>year</th>\n",
       "    </tr>\n",
       "  </thead>\n",
       "  <tbody>\n",
       "    <tr>\n",
       "      <th>0</th>\n",
       "      <td>60618</td>\n",
       "      <td>13232020401002</td>\n",
       "      <td>2020</td>\n",
       "    </tr>\n",
       "    <tr>\n",
       "      <th>1</th>\n",
       "      <td>60618</td>\n",
       "      <td>14183000410000</td>\n",
       "      <td>2020</td>\n",
       "    </tr>\n",
       "    <tr>\n",
       "      <th>2</th>\n",
       "      <td>60618</td>\n",
       "      <td>14301190551001</td>\n",
       "      <td>2021</td>\n",
       "    </tr>\n",
       "    <tr>\n",
       "      <th>3</th>\n",
       "      <td>60618</td>\n",
       "      <td>14193110260000</td>\n",
       "      <td>2022</td>\n",
       "    </tr>\n",
       "    <tr>\n",
       "      <th>4</th>\n",
       "      <td>60618</td>\n",
       "      <td>13241190400000</td>\n",
       "      <td>2017</td>\n",
       "    </tr>\n",
       "    <tr>\n",
       "      <th>5</th>\n",
       "      <td>60618</td>\n",
       "      <td>13261300210000</td>\n",
       "      <td>2017</td>\n",
       "    </tr>\n",
       "    <tr>\n",
       "      <th>6</th>\n",
       "      <td>60618</td>\n",
       "      <td>14193290571023</td>\n",
       "      <td>2017</td>\n",
       "    </tr>\n",
       "    <tr>\n",
       "      <th>7</th>\n",
       "      <td>60618</td>\n",
       "      <td>14191150230000</td>\n",
       "      <td>2020</td>\n",
       "    </tr>\n",
       "    <tr>\n",
       "      <th>8</th>\n",
       "      <td>60618</td>\n",
       "      <td>13133130290000</td>\n",
       "      <td>2017</td>\n",
       "    </tr>\n",
       "    <tr>\n",
       "      <th>9</th>\n",
       "      <td>60618</td>\n",
       "      <td>14183150360000</td>\n",
       "      <td>2017</td>\n",
       "    </tr>\n",
       "  </tbody>\n",
       "</table>\n",
       "</div>"
      ],
      "text/plain": [
       "  prop_address_zipcode_1             pin  year\n",
       "0                  60618  13232020401002  2020\n",
       "1                  60618  14183000410000  2020\n",
       "2                  60618  14301190551001  2021\n",
       "3                  60618  14193110260000  2022\n",
       "4                  60618  13241190400000  2017\n",
       "5                  60618  13261300210000  2017\n",
       "6                  60618  14193290571023  2017\n",
       "7                  60618  14191150230000  2020\n",
       "8                  60618  13133130290000  2017\n",
       "9                  60618  14183150360000  2017"
      ]
     },
     "execution_count": 64,
     "metadata": {},
     "output_type": "execute_result"
    }
   ],
   "source": [
    "final_zip = pd.DataFrame(columns = [\"prop_address_zipcode_1\", \"pin\", \"year\"])\n",
    "\n",
    "for zipcode in zipcodes:\n",
    "    universe_response = .geclientt(\"tx2p-k2g9\",prop_address_zipcode_1={zipcode}, where=\"year > 2015\", limit=20000) #50,000\n",
    "    df_zip = clean_zipcode_response(universe_response)\n",
    "    final_zip = final_zip.append(df_zip)\n",
    "final_zip.head(10)\n",
    "# final_zip.to_csv(\"final_zip.csv\", encoding='utf-8', index=False)"
   ]
  },
  {
   "cell_type": "code",
   "execution_count": 70,
   "id": "087c5f1e",
   "metadata": {},
   "outputs": [],
   "source": [
    "def clean_pin_response(api_response):\n",
    "    df = pd.DataFrame(api_response)\n",
    "    if \"year\" not in df:\n",
    "        return pd.DataFrame(columns = [\"pin\", \"year\", \"board_tot\"])\n",
    "    df[\"year\"] = df[\"year\"].astype('int')\n",
    "    if \"board_tot\" not in df:\n",
    "        return pd.DataFrame(columns = [\"pin\", \"year\", \"board_tot\"])\n",
    "    df_limited_cols = df[[\"pin\", \"year\", \"board_tot\"]]\n",
    "    df_limited_cols = df_limited_cols.dropna()\n",
    "    df_final = df_limited_cols[df_limited_cols[\"year\"] > 2015]\n",
    "    return df_final"
   ]
  },
  {
   "cell_type": "code",
   "execution_count": 96,
   "id": "aadf8e3c",
   "metadata": {},
   "outputs": [
    {
     "data": {
      "text/html": [
       "<div>\n",
       "<style scoped>\n",
       "    .dataframe tbody tr th:only-of-type {\n",
       "        vertical-align: middle;\n",
       "    }\n",
       "\n",
       "    .dataframe tbody tr th {\n",
       "        vertical-align: top;\n",
       "    }\n",
       "\n",
       "    .dataframe thead th {\n",
       "        text-align: right;\n",
       "    }\n",
       "</style>\n",
       "<table border=\"1\" class=\"dataframe\">\n",
       "  <thead>\n",
       "    <tr style=\"text-align: right;\">\n",
       "      <th></th>\n",
       "      <th>pin</th>\n",
       "      <th>year</th>\n",
       "      <th>board_tot</th>\n",
       "    </tr>\n",
       "  </thead>\n",
       "  <tbody>\n",
       "    <tr>\n",
       "      <th>12</th>\n",
       "      <td>13232020401002</td>\n",
       "      <td>2016</td>\n",
       "      <td>33472</td>\n",
       "    </tr>\n",
       "    <tr>\n",
       "      <th>13</th>\n",
       "      <td>13232020401002</td>\n",
       "      <td>2017</td>\n",
       "      <td>33472</td>\n",
       "    </tr>\n",
       "    <tr>\n",
       "      <th>14</th>\n",
       "      <td>13232020401002</td>\n",
       "      <td>2018</td>\n",
       "      <td>33899</td>\n",
       "    </tr>\n",
       "    <tr>\n",
       "      <th>15</th>\n",
       "      <td>13232020401002</td>\n",
       "      <td>2019</td>\n",
       "      <td>33899</td>\n",
       "    </tr>\n",
       "    <tr>\n",
       "      <th>16</th>\n",
       "      <td>13232020401002</td>\n",
       "      <td>2020</td>\n",
       "      <td>31000</td>\n",
       "    </tr>\n",
       "    <tr>\n",
       "      <th>17</th>\n",
       "      <td>14183000410000</td>\n",
       "      <td>2016</td>\n",
       "      <td>31018</td>\n",
       "    </tr>\n",
       "    <tr>\n",
       "      <th>18</th>\n",
       "      <td>14183000410000</td>\n",
       "      <td>2017</td>\n",
       "      <td>31018</td>\n",
       "    </tr>\n",
       "    <tr>\n",
       "      <th>19</th>\n",
       "      <td>14183000410000</td>\n",
       "      <td>2018</td>\n",
       "      <td>33100</td>\n",
       "    </tr>\n",
       "    <tr>\n",
       "      <th>20</th>\n",
       "      <td>14183000410000</td>\n",
       "      <td>2019</td>\n",
       "      <td>33100</td>\n",
       "    </tr>\n",
       "    <tr>\n",
       "      <th>21</th>\n",
       "      <td>14183000410000</td>\n",
       "      <td>2020</td>\n",
       "      <td>27239</td>\n",
       "    </tr>\n",
       "  </tbody>\n",
       "</table>\n",
       "</div>"
      ],
      "text/plain": [
       "               pin  year board_tot\n",
       "12  13232020401002  2016     33472\n",
       "13  13232020401002  2017     33472\n",
       "14  13232020401002  2018     33899\n",
       "15  13232020401002  2019     33899\n",
       "16  13232020401002  2020     31000\n",
       "17  14183000410000  2016     31018\n",
       "18  14183000410000  2017     31018\n",
       "19  14183000410000  2018     33100\n",
       "20  14183000410000  2019     33100\n",
       "21  14183000410000  2020     27239"
      ]
     },
     "execution_count": 96,
     "metadata": {},
     "output_type": "execute_result"
    }
   ],
   "source": [
    "pins = final_zip.pin.unique()\n",
    "\n",
    "#board_tot is total assessed value \n",
    "\n",
    "# final_pin = pd.DataFrame(columns = [\"pin\", \"year\", \"board_tot\"])\n",
    "\n",
    "for pin in remaining_pins:\n",
    "    historic_url = f\"https://datacatalog.cookcountyil.gov/resource/uzyt-m557.json?pin={pin}\"\n",
    "    historic_response = requests.get(historic_url).json()\n",
    "    columns = [\"pin\", \"year\", \"board_tot\"]\n",
    "    final_pin = final_pin.reindex(columns=columns)\n",
    "    df_pin = clean_pin_response(historic_response)\n",
    "    final_pin = final_pin.append(df_pin)\n",
    "final_pin.head(10)"
   ]
  },
  {
   "cell_type": "code",
   "execution_count": 97,
   "id": "6c7a75d9",
   "metadata": {},
   "outputs": [
    {
     "data": {
      "text/html": [
       "<div>\n",
       "<style scoped>\n",
       "    .dataframe tbody tr th:only-of-type {\n",
       "        vertical-align: middle;\n",
       "    }\n",
       "\n",
       "    .dataframe tbody tr th {\n",
       "        vertical-align: top;\n",
       "    }\n",
       "\n",
       "    .dataframe thead th {\n",
       "        text-align: right;\n",
       "    }\n",
       "</style>\n",
       "<table border=\"1\" class=\"dataframe\">\n",
       "  <thead>\n",
       "    <tr style=\"text-align: right;\">\n",
       "      <th></th>\n",
       "      <th>prop_address_zipcode_1</th>\n",
       "      <th>pin</th>\n",
       "      <th>year</th>\n",
       "      <th>board_tot</th>\n",
       "    </tr>\n",
       "  </thead>\n",
       "  <tbody>\n",
       "    <tr>\n",
       "      <th>0</th>\n",
       "      <td>60618</td>\n",
       "      <td>13232020401002</td>\n",
       "      <td>2020</td>\n",
       "      <td>31000</td>\n",
       "    </tr>\n",
       "    <tr>\n",
       "      <th>1</th>\n",
       "      <td>60618</td>\n",
       "      <td>14183000410000</td>\n",
       "      <td>2020</td>\n",
       "      <td>27239</td>\n",
       "    </tr>\n",
       "    <tr>\n",
       "      <th>2</th>\n",
       "      <td>60618</td>\n",
       "      <td>13241190400000</td>\n",
       "      <td>2017</td>\n",
       "      <td>59315</td>\n",
       "    </tr>\n",
       "    <tr>\n",
       "      <th>3</th>\n",
       "      <td>60618</td>\n",
       "      <td>13261300210000</td>\n",
       "      <td>2017</td>\n",
       "      <td>27274</td>\n",
       "    </tr>\n",
       "    <tr>\n",
       "      <th>4</th>\n",
       "      <td>60618</td>\n",
       "      <td>14193290571023</td>\n",
       "      <td>2017</td>\n",
       "      <td>3655</td>\n",
       "    </tr>\n",
       "    <tr>\n",
       "      <th>5</th>\n",
       "      <td>60618</td>\n",
       "      <td>14191150230000</td>\n",
       "      <td>2020</td>\n",
       "      <td>78990</td>\n",
       "    </tr>\n",
       "    <tr>\n",
       "      <th>6</th>\n",
       "      <td>60618</td>\n",
       "      <td>13133130290000</td>\n",
       "      <td>2017</td>\n",
       "      <td>48529</td>\n",
       "    </tr>\n",
       "    <tr>\n",
       "      <th>7</th>\n",
       "      <td>60618</td>\n",
       "      <td>14183150360000</td>\n",
       "      <td>2017</td>\n",
       "      <td>99909</td>\n",
       "    </tr>\n",
       "    <tr>\n",
       "      <th>8</th>\n",
       "      <td>60618</td>\n",
       "      <td>14191180330000</td>\n",
       "      <td>2020</td>\n",
       "      <td>59703</td>\n",
       "    </tr>\n",
       "    <tr>\n",
       "      <th>9</th>\n",
       "      <td>60618</td>\n",
       "      <td>14191220380000</td>\n",
       "      <td>2020</td>\n",
       "      <td>76074</td>\n",
       "    </tr>\n",
       "  </tbody>\n",
       "</table>\n",
       "</div>"
      ],
      "text/plain": [
       "  prop_address_zipcode_1             pin  year board_tot\n",
       "0                  60618  13232020401002  2020     31000\n",
       "1                  60618  14183000410000  2020     27239\n",
       "2                  60618  13241190400000  2017     59315\n",
       "3                  60618  13261300210000  2017     27274\n",
       "4                  60618  14193290571023  2017      3655\n",
       "5                  60618  14191150230000  2020     78990\n",
       "6                  60618  13133130290000  2017     48529\n",
       "7                  60618  14183150360000  2017     99909\n",
       "8                  60618  14191180330000  2020     59703\n",
       "9                  60618  14191220380000  2020     76074"
      ]
     },
     "execution_count": 97,
     "metadata": {},
     "output_type": "execute_result"
    }
   ],
   "source": [
    "merged_df = pd.merge(final_zip, final_pin, on=[\"pin\", \"year\"])\n",
    "merged_df.head(10)"
   ]
  },
  {
   "cell_type": "code",
   "execution_count": 98,
   "id": "45b751b8",
   "metadata": {},
   "outputs": [
    {
     "data": {
      "text/plain": [
       "prop_address_zipcode_1  year\n",
       "60608                   2016    25235.443032\n",
       "                        2017    26660.130075\n",
       "                        2018    26613.571975\n",
       "                        2019    34934.836695\n",
       "                        2020    31044.603919\n",
       "                        2021     9038.000000\n",
       "60614                   2016    58158.537581\n",
       "                        2017    56926.231730\n",
       "                        2018    63329.586314\n",
       "                        2019    67577.064419\n",
       "                        2020    66467.909799\n",
       "60618                   2016    37792.898153\n",
       "                        2017    38214.435154\n",
       "                        2018    42071.998525\n",
       "                        2019    50137.198347\n",
       "                        2020    45226.915064\n",
       "60624                   2016    14529.363871\n",
       "                        2017    15217.096215\n",
       "                        2018    14262.767271\n",
       "                        2019    16215.984305\n",
       "                        2020    14288.940489\n",
       "60625                   2016    32469.958433\n",
       "                        2017    33479.928814\n",
       "                        2018    39947.969732\n",
       "                        2019    39640.373632\n",
       "                        2020    35513.491750\n",
       "60647                   2016    35555.249345\n",
       "                        2017    37027.351928\n",
       "                        2018    42781.864329\n",
       "                        2019    43121.998489\n",
       "Name: board_tot_num, dtype: float64"
      ]
     },
     "execution_count": 98,
     "metadata": {},
     "output_type": "execute_result"
    }
   ],
   "source": [
    "modified_df = merged_df\n",
    "modified_df['board_tot_num'] = modified_df['board_tot'].astype('int')\n",
    "mean_zip = modified_df.groupby(['prop_address_zipcode_1', 'year'])['board_tot_num'].mean()\n",
    "mean_zip.head(30)"
   ]
  },
  {
   "cell_type": "code",
   "execution_count": 99,
   "id": "3b6397c0",
   "metadata": {},
   "outputs": [
    {
     "name": "stdout",
     "output_type": "stream",
     "text": [
      "75133\n",
      "74942\n",
      "191\n"
     ]
    }
   ],
   "source": [
    "print(final_zip['pin'].nunique())\n",
    "print(final_pin['pin'].nunique())\n",
    "remaining_pins = list(set(final_zip.pin) - set(final_pin.pin))\n",
    "print(len(remaining_pins))"
   ]
  },
  {
   "cell_type": "code",
   "execution_count": 100,
   "id": "697285dc",
   "metadata": {},
   "outputs": [],
   "source": [
    "final_zip.to_csv(\"final_zip.csv\", encoding='utf-8', index=False)\n",
    "final_pin.to_csv(\"final_pin.csv\", encoding='utf-8', index=False)\n",
    "merged_df.to_csv(\"merged_df.csv\", encoding='utf-8', index=False)"
   ]
  },
  {
   "cell_type": "code",
   "execution_count": 144,
   "id": "0bf544f7",
   "metadata": {},
   "outputs": [],
   "source": [
    "df_60618 = merged_df.loc[merged_df[\"prop_address_zipcode_1\"] == \"60618\"]\n",
    "df_60647 = merged_df.loc[merged_df[\"prop_address_zipcode_1\"] == \"60647\"]\n",
    "df_60625 = merged_df.loc[merged_df[\"prop_address_zipcode_1\"] == \"60625\"]\n",
    "df_60608 = merged_df.loc[merged_df[\"prop_address_zipcode_1\"] == \"60608\"]\n",
    "df_60624 = merged_df.loc[merged_df[\"prop_address_zipcode_1\"] == \"60624\"]\n",
    "df_60614 = merged_df.loc[merged_df[\"prop_address_zipcode_1\"] == \"60614\"]"
   ]
  },
  {
   "cell_type": "code",
   "execution_count": 149,
   "id": "aa331027",
   "metadata": {},
   "outputs": [
    {
     "name": "stdout",
     "output_type": "stream",
     "text": [
      "60618 Low Quartile: 23772.25\n",
      "60618 Mean: 35297.416666666664\n",
      "60618 High Quartile: 48339.0\n",
      "60618 Outliers: Below -13077.875 And Above 85189.125\n"
     ]
    }
   ],
   "source": [
    "#60618\n",
    "\n",
    "df_60618_final = df_60618[\"board_tot_num\"]\n",
    "\n",
    "df_60618_quartiles = df_60618_final.quantile([.25,.5,.75])\n",
    "df_60618_low_quartile = df_60618_quartiles[.25]\n",
    "df_60618_high_quartile = df_60618_quartiles[.75]\n",
    "df_60618_mean = df_60618_quartiles.mean()\n",
    "df_60618_iqr = df_60618_high_quartile-df_60618_low_quartile\n",
    "df_60618_lower_bound = df_60618_low_quartile - (1.5*df_60618_iqr)\n",
    "df_60618_upper_bound = df_60618_high_quartile + (1.5*df_60618_iqr)\n",
    "df_60618_outliers = df_60618_quartiles.loc[(df_60618_quartiles < df_60618_lower_bound) & (df_60618_quartiles > df_60618_upper_bound)]\n",
    "\n",
    "print(f\"60618 Low Quartile: {df_60618_low_quartile}\")\n",
    "print(f\"60618 Mean: {df_60618_mean}\")\n",
    "print(f\"60618 High Quartile: {df_60618_high_quartile}\")\n",
    "print(f\"60618 Outliers: Below {df_60618_lower_bound} And Above {df_60618_upper_bound}\")\n",
    "\n"
   ]
  },
  {
   "cell_type": "code",
   "execution_count": 150,
   "id": "c8f78e9d",
   "metadata": {},
   "outputs": [
    {
     "name": "stdout",
     "output_type": "stream",
     "text": [
      "60647 Low Quartile: 20276.25\n",
      "60647 Mean: 33381.916666666664\n",
      "60647 High Quartile: 47562.5\n",
      "60647 Outliers: Below -21817.875 And Above 89656.625\n"
     ]
    }
   ],
   "source": [
    "#60647\n",
    "\n",
    "df_60647_final = df_60647[\"board_tot_num\"]\n",
    "\n",
    "df_60647_quartiles = df_60647_final.quantile([.25,.5,.75])\n",
    "df_60647_low_quartile = df_60647_quartiles[.25]\n",
    "df_60647_high_quartile = df_60647_quartiles[.75]\n",
    "df_60647_mean = df_60647_quartiles.mean()\n",
    "df_60647_iqr = df_60618_high_quartile-df_60647_low_quartile\n",
    "df_60647_lower_bound = df_60647_low_quartile - (1.5*df_60647_iqr)\n",
    "df_60647_upper_bound = df_60647_high_quartile + (1.5*df_60647_iqr)\n",
    "df_60647_outliers = df_60647_quartiles.loc[(df_60618_quartiles < df_60647_lower_bound) & (df_60647_quartiles > df_60647_upper_bound)]\n",
    "\n",
    "print(f\"60647 Low Quartile: {df_60647_low_quartile}\")\n",
    "print(f\"60647 Mean: {df_60647_mean}\")\n",
    "print(f\"60647 High Quartile: {df_60647_high_quartile}\")\n",
    "print(f\"60647 Outliers: Below {df_60647_lower_bound} And Above {df_60647_upper_bound}\")\n"
   ]
  },
  {
   "cell_type": "code",
   "execution_count": 151,
   "id": "5abbffdc",
   "metadata": {},
   "outputs": [
    {
     "name": "stdout",
     "output_type": "stream",
     "text": [
      "60625 Low Quartile: 15038.25\n",
      "60625 Mean: 30393.5\n",
      "60625 High Quartile: 46058.25\n",
      "60625 Outliers: Below -31491.75 And Above 92588.25\n"
     ]
    }
   ],
   "source": [
    "#60625\n",
    "\n",
    "df_60625_final = df_60625[\"board_tot_num\"]\n",
    "\n",
    "df_60625_quartiles = df_60625_final.quantile([.25,.5,.75])\n",
    "df_60625_low_quartile = df_60625_quartiles[.25]\n",
    "df_60625_high_quartile = df_60625_quartiles[.75]\n",
    "df_60625_mean = df_60625_quartiles.mean()\n",
    "df_60625_iqr = df_60625_high_quartile-df_60625_low_quartile\n",
    "df_60625_lower_bound = df_60625_low_quartile - (1.5*df_60625_iqr)\n",
    "df_60625_upper_bound = df_60625_high_quartile + (1.5*df_60625_iqr)\n",
    "df_60625_outliers = df_60625_quartiles.loc[(df_60625_quartiles < df_60625_lower_bound) & (df_60625_quartiles > df_60625_upper_bound)]\n",
    "\n",
    "print(f\"60625 Low Quartile: {df_60625_low_quartile}\")\n",
    "print(f\"60625 Mean: {df_60625_mean}\")\n",
    "print(f\"60625 High Quartile: {df_60625_high_quartile}\")\n",
    "print(f\"60625 Outliers: Below {df_60625_lower_bound} And Above {df_60625_upper_bound}\")\n"
   ]
  },
  {
   "cell_type": "code",
   "execution_count": 155,
   "id": "1a6c4a42",
   "metadata": {},
   "outputs": [
    {
     "name": "stdout",
     "output_type": "stream",
     "text": [
      "60608 Low Quartile: 9986.5\n",
      "60608 Mean: 20090.5\n",
      "60608 High Quartile: 29047.0\n",
      "60608 Outliers: Below -18604.25 And Above 57637.75\n"
     ]
    }
   ],
   "source": [
    "#60608\n",
    "\n",
    "df_60608_final = df_60608[\"board_tot_num\"]\n",
    "\n",
    "df_60608_quartiles = df_60608_final.quantile([.25,.5,.75])\n",
    "df_60608_low_quartile = df_60608_quartiles[.25]\n",
    "df_60608_high_quartile = df_60608_quartiles[.75]\n",
    "df_60608_mean = df_60608_quartiles.mean()\n",
    "df_60608_iqr = df_60608_high_quartile-df_60608_low_quartile\n",
    "df_60608_lower_bound = df_60608_low_quartile - (1.5*df_60608_iqr)\n",
    "df_60608_upper_bound = df_60608_high_quartile + (1.5*df_60608_iqr)\n",
    "df_60608_outliers = df_60608_quartiles.loc[(df_60608_quartiles < df_60608_lower_bound) & (df_60608_quartiles > df_60608_upper_bound)]\n",
    "\n",
    "print(f\"60608 Low Quartile: {df_60608_low_quartile}\")\n",
    "print(f\"60608 Mean: {df_60608_mean}\")\n",
    "print(f\"60608 High Quartile: {df_60608_high_quartile}\")\n",
    "print(f\"60608 Outliers: Below {df_60608_lower_bound} And Above {df_60608_upper_bound}\")\n"
   ]
  },
  {
   "cell_type": "code",
   "execution_count": 156,
   "id": "652693f7",
   "metadata": {},
   "outputs": [
    {
     "name": "stdout",
     "output_type": "stream",
     "text": [
      "60624 Low Quartile: 3583.0\n",
      "60624 Mean: 10780.166666666666\n",
      "60624 High Quartile: 17500.5\n",
      "60624 Outliers: Below -17293.25 And Above 38376.75\n"
     ]
    }
   ],
   "source": [
    "#60624\n",
    "\n",
    "df_60624_final = df_60624[\"board_tot_num\"]\n",
    "\n",
    "df_60624_quartiles = df_60624_final.quantile([.25,.5,.75])\n",
    "df_60624_low_quartile = df_60624_quartiles[.25]\n",
    "df_60624_high_quartile = df_60624_quartiles[.75]\n",
    "df_60624_mean = df_60624_quartiles.mean()\n",
    "df_60624_iqr = df_60624_high_quartile-df_60624_low_quartile\n",
    "df_60624_lower_bound = df_60624_low_quartile - (1.5*df_60624_iqr)\n",
    "df_60624_upper_bound = df_60624_high_quartile + (1.5*df_60624_iqr)\n",
    "df_60624_outliers = df_60624_quartiles.loc[(df_60624_quartiles < df_60624_lower_bound) & (df_60624_quartiles > df_60624_upper_bound)]\n",
    "\n",
    "print(f\"60624 Low Quartile: {df_60624_low_quartile}\")\n",
    "print(f\"60624 Mean: {df_60624_mean}\")\n",
    "print(f\"60624 High Quartile: {df_60624_high_quartile}\")\n",
    "print(f\"60624 Outliers: Below {df_60624_lower_bound} And Above {df_60624_upper_bound}\")\n",
    "\n"
   ]
  },
  {
   "cell_type": "code",
   "execution_count": 157,
   "id": "9bd0be78",
   "metadata": {},
   "outputs": [
    {
     "name": "stdout",
     "output_type": "stream",
     "text": [
      "60614 Low Quartile: 17903.5\n",
      "60614 Mean: 43527.333333333336\n",
      "60614 High Quartile: 74588.0\n",
      "60614 Outliers: Below -67123.25 And Above 159614.75\n"
     ]
    }
   ],
   "source": [
    "#60614\n",
    "\n",
    "df_60614_final = df_60614[\"board_tot_num\"]\n",
    "\n",
    "df_60614_quartiles = df_60614_final.quantile([.25,.5,.75])\n",
    "df_60614_low_quartile = df_60614_quartiles[.25]\n",
    "df_60614_high_quartile = df_60614_quartiles[.75]\n",
    "df_60614_mean = df_60614_quartiles.mean()\n",
    "df_60614_iqr = df_60614_high_quartile-df_60614_low_quartile\n",
    "df_60614_lower_bound = df_60614_low_quartile - (1.5*df_60614_iqr)\n",
    "df_60614_upper_bound = df_60614_high_quartile + (1.5*df_60614_iqr)\n",
    "df_60614_outliers = df_60614_quartiles.loc[(df_60614_quartiles < df_60614_lower_bound) & (df_60614_quartiles > df_60614_upper_bound)]\n",
    "\n",
    "print(f\"60614 Low Quartile: {df_60614_low_quartile}\")\n",
    "print(f\"60614 Mean: {df_60614_mean}\")\n",
    "print(f\"60614 High Quartile: {df_60614_high_quartile}\")\n",
    "print(f\"60614 Outliers: Below {df_60614_lower_bound} And Above {df_60614_upper_bound}\")\n",
    "\n",
    "\n"
   ]
  },
  {
   "cell_type": "code",
   "execution_count": 173,
   "id": "70826df6",
   "metadata": {},
   "outputs": [
    {
     "data": {
      "image/png": "[encoded data removed]",
      "text/plain": [
       "<Figure size 432x288 with 1 Axes>"
      ]
     },
     "metadata": {
      "needs_background": "light"
     },
     "output_type": "display_data"
    }
   ],
   "source": [
    "data = [df_60608_final, df_60614_final, df_60618_final, df_60624_final, df_60625_final, df_60647_final]\n",
    "zipcodes = [\"60608\", \"60614\", \"60618\", \"60624\", \"60625\", \"60647\"]\n",
    "figl, axl = plt.subplots()\n",
    "axl.set_title(\"Assessed Values Prices by Zipcode\")\n",
    "axl.set_ylabel(\"Assessed Values\")\n",
    "axl.set_xlabel(\"Zipcodes\")\n",
    "ymin = 0\n",
    "ymax = 90000\n",
    "plt.ylim(ymin, ymax)\n",
    "axl.boxplot(data, labels=zipcodes)\n",
    "plt.show()"
   ]
  },
  {
   "cell_type": "code",
   "execution_count": null,
   "id": "6be330e0",
   "metadata": {},
   "outputs": [],
   "source": [
    "#Declare function\n",
    "\n",
    "def clean_zipcode_response(api_response):\n",
    "    df = pd.DataFrame(api_response)\n",
    "    df[\"year\"] = df[\"year\"].astype('int')\n",
    "    df_limited_cols = df[[\"prop_address_zipcode_1\", \"pin\", \"year\"]]\n",
    "    return df_limited_cols"
   ]
  },
  {
   "cell_type": "code",
   "execution_count": 64,
   "id": "460be4cc",
   "metadata": {},
   "outputs": [
    {
     "data": {
      "text/html": [
       "<div>\n",
       "<style scoped>\n",
       "    .dataframe tbody tr th:only-of-type {\n",
       "        vertical-align: middle;\n",
       "    }\n",
       "\n",
       "    .dataframe tbody tr th {\n",
       "        vertical-align: top;\n",
       "    }\n",
       "\n",
       "    .dataframe thead th {\n",
       "        text-align: right;\n",
       "    }\n",
       "</style>\n",
       "<table border=\"1\" class=\"dataframe\">\n",
       "  <thead>\n",
       "    <tr style=\"text-align: right;\">\n",
       "      <th></th>\n",
       "      <th>prop_address_zipcode_1</th>\n",
       "      <th>pin</th>\n",
       "      <th>year</th>\n",
       "    </tr>\n",
       "  </thead>\n",
       "  <tbody>\n",
       "    <tr>\n",
       "      <th>0</th>\n",
       "      <td>60618</td>\n",
       "      <td>13232020401002</td>\n",
       "      <td>2020</td>\n",
       "    </tr>\n",
       "    <tr>\n",
       "      <th>1</th>\n",
       "      <td>60618</td>\n",
       "      <td>14183000410000</td>\n",
       "      <td>2020</td>\n",
       "    </tr>\n",
       "    <tr>\n",
       "      <th>2</th>\n",
       "      <td>60618</td>\n",
       "      <td>14301190551001</td>\n",
       "      <td>2021</td>\n",
       "    </tr>\n",
       "    <tr>\n",
       "      <th>3</th>\n",
       "      <td>60618</td>\n",
       "      <td>14193110260000</td>\n",
       "      <td>2022</td>\n",
       "    </tr>\n",
       "    <tr>\n",
       "      <th>4</th>\n",
       "      <td>60618</td>\n",
       "      <td>13241190400000</td>\n",
       "      <td>2017</td>\n",
       "    </tr>\n",
       "    <tr>\n",
       "      <th>5</th>\n",
       "      <td>60618</td>\n",
       "      <td>13261300210000</td>\n",
       "      <td>2017</td>\n",
       "    </tr>\n",
       "    <tr>\n",
       "      <th>6</th>\n",
       "      <td>60618</td>\n",
       "      <td>14193290571023</td>\n",
       "      <td>2017</td>\n",
       "    </tr>\n",
       "    <tr>\n",
       "      <th>7</th>\n",
       "      <td>60618</td>\n",
       "      <td>14191150230000</td>\n",
       "      <td>2020</td>\n",
       "    </tr>\n",
       "    <tr>\n",
       "      <th>8</th>\n",
       "      <td>60618</td>\n",
       "      <td>13133130290000</td>\n",
       "      <td>2017</td>\n",
       "    </tr>\n",
       "    <tr>\n",
       "      <th>9</th>\n",
       "      <td>60618</td>\n",
       "      <td>14183150360000</td>\n",
       "      <td>2017</td>\n",
       "    </tr>\n",
       "  </tbody>\n",
       "</table>\n",
       "</div>"
      ],
      "text/plain": [
       "  prop_address_zipcode_1             pin  year\n",
       "0                  60618  13232020401002  2020\n",
       "1                  60618  14183000410000  2020\n",
       "2                  60618  14301190551001  2021\n",
       "3                  60618  14193110260000  2022\n",
       "4                  60618  13241190400000  2017\n",
       "5                  60618  13261300210000  2017\n",
       "6                  60618  14193290571023  2017\n",
       "7                  60618  14191150230000  2020\n",
       "8                  60618  13133130290000  2017\n",
       "9                  60618  14183150360000  2017"
      ]
     },
     "execution_count": 64,
     "metadata": {},
     "output_type": "execute_result"
    }
   ],
   "source": [
    "final_zip = pd.DataFrame(columns = [\"prop_address_zipcode_1\", \"pin\", \"year\"])\n",
    "\n",
    "for zipcode in zipcodes:\n",
    "    universe_response = .geclientt(\"tx2p-k2g9\",prop_address_zipcode_1={zipcode}, where=\"year > 2015\", limit=20000) #50,000\n",
    "    df_zip = clean_zipcode_response(universe_response)\n",
    "    final_zip = final_zip.append(df_zip)\n",
    "final_zip.head(10)\n",
    "# final_zip.to_csv(\"final_zip.csv\", encoding='utf-8', index=False)"
   ]
  },
  {
   "cell_type": "code",
   "execution_count": 70,
   "id": "087c5f1e",
   "metadata": {},
   "outputs": [],
   "source": [
    "def clean_pin_response(api_response):\n",
    "    df = pd.DataFrame(api_response)\n",
    "    if \"year\" not in df:\n",
    "        return pd.DataFrame(columns = [\"pin\", \"year\", \"board_tot\"])\n",
    "    df[\"year\"] = df[\"year\"].astype('int')\n",
    "    if \"board_tot\" not in df:\n",
    "        return pd.DataFrame(columns = [\"pin\", \"year\", \"board_tot\"])\n",
    "    df_limited_cols = df[[\"pin\", \"year\", \"board_tot\"]]\n",
    "    df_limited_cols = df_limited_cols.dropna()\n",
    "    df_final = df_limited_cols[df_limited_cols[\"year\"] > 2015]\n",
    "    return df_final"
   ]
  },
  {
   "cell_type": "code",
   "execution_count": 96,
   "id": "aadf8e3c",
   "metadata": {},
   "outputs": [
    {
     "data": {
      "text/html": [
       "<div>\n",
       "<style scoped>\n",
       "    .dataframe tbody tr th:only-of-type {\n",
       "        vertical-align: middle;\n",
       "    }\n",
       "\n",
       "    .dataframe tbody tr th {\n",
       "        vertical-align: top;\n",
       "    }\n",
       "\n",
       "    .dataframe thead th {\n",
       "        text-align: right;\n",
       "    }\n",
       "</style>\n",
       "<table border=\"1\" class=\"dataframe\">\n",
       "  <thead>\n",
       "    <tr style=\"text-align: right;\">\n",
       "      <th></th>\n",
       "      <th>pin</th>\n",
       "      <th>year</th>\n",
       "      <th>board_tot</th>\n",
       "    </tr>\n",
       "  </thead>\n",
       "  <tbody>\n",
       "    <tr>\n",
       "      <th>12</th>\n",
       "      <td>13232020401002</td>\n",
       "      <td>2016</td>\n",
       "      <td>33472</td>\n",
       "    </tr>\n",
       "    <tr>\n",
       "      <th>13</th>\n",
       "      <td>13232020401002</td>\n",
       "      <td>2017</td>\n",
       "      <td>33472</td>\n",
       "    </tr>\n",
       "    <tr>\n",
       "      <th>14</th>\n",
       "      <td>13232020401002</td>\n",
       "      <td>2018</td>\n",
       "      <td>33899</td>\n",
       "    </tr>\n",
       "    <tr>\n",
       "      <th>15</th>\n",
       "      <td>13232020401002</td>\n",
       "      <td>2019</td>\n",
       "      <td>33899</td>\n",
       "    </tr>\n",
       "    <tr>\n",
       "      <th>16</th>\n",
       "      <td>13232020401002</td>\n",
       "      <td>2020</td>\n",
       "      <td>31000</td>\n",
       "    </tr>\n",
       "    <tr>\n",
       "      <th>17</th>\n",
       "      <td>14183000410000</td>\n",
       "      <td>2016</td>\n",
       "      <td>31018</td>\n",
       "    </tr>\n",
       "    <tr>\n",
       "      <th>18</th>\n",
       "      <td>14183000410000</td>\n",
       "      <td>2017</td>\n",
       "      <td>31018</td>\n",
       "    </tr>\n",
       "    <tr>\n",
       "      <th>19</th>\n",
       "      <td>14183000410000</td>\n",
       "      <td>2018</td>\n",
       "      <td>33100</td>\n",
       "    </tr>\n",
       "    <tr>\n",
       "      <th>20</th>\n",
       "      <td>14183000410000</td>\n",
       "      <td>2019</td>\n",
       "      <td>33100</td>\n",
       "    </tr>\n",
       "    <tr>\n",
       "      <th>21</th>\n",
       "      <td>14183000410000</td>\n",
       "      <td>2020</td>\n",
       "      <td>27239</td>\n",
       "    </tr>\n",
       "  </tbody>\n",
       "</table>\n",
       "</div>"
      ],
      "text/plain": [
       "               pin  year board_tot\n",
       "12  13232020401002  2016     33472\n",
       "13  13232020401002  2017     33472\n",
       "14  13232020401002  2018     33899\n",
       "15  13232020401002  2019     33899\n",
       "16  13232020401002  2020     31000\n",
       "17  14183000410000  2016     31018\n",
       "18  14183000410000  2017     31018\n",
       "19  14183000410000  2018     33100\n",
       "20  14183000410000  2019     33100\n",
       "21  14183000410000  2020     27239"
      ]
     },
     "execution_count": 96,
     "metadata": {},
     "output_type": "execute_result"
    }
   ],
   "source": [
    "pins = final_zip.pin.unique()\n",
    "\n",
    "#board_tot is total assessed value \n",
    "\n",
    "# final_pin = pd.DataFrame(columns = [\"pin\", \"year\", \"board_tot\"])\n",
    "\n",
    "for pin in remaining_pins:\n",
    "    historic_url = f\"https://datacatalog.cookcountyil.gov/resource/uzyt-m557.json?pin={pin}\"\n",
    "    historic_response = requests.get(historic_url).json()\n",
    "    columns = [\"pin\", \"year\", \"board_tot\"]\n",
    "    final_pin = final_pin.reindex(columns=columns)\n",
    "    df_pin = clean_pin_response(historic_response)\n",
    "    final_pin = final_pin.append(df_pin)\n",
    "final_pin.head(10)"
   ]
  },
  {
   "cell_type": "code",
   "execution_count": 97,
   "id": "6c7a75d9",
   "metadata": {},
   "outputs": [
    {
     "data": {
      "text/html": [
       "<div>\n",
       "<style scoped>\n",
       "    .dataframe tbody tr th:only-of-type {\n",
       "        vertical-align: middle;\n",
       "    }\n",
       "\n",
       "    .dataframe tbody tr th {\n",
       "        vertical-align: top;\n",
       "    }\n",
       "\n",
       "    .dataframe thead th {\n",
       "        text-align: right;\n",
       "    }\n",
       "</style>\n",
       "<table border=\"1\" class=\"dataframe\">\n",
       "  <thead>\n",
       "    <tr style=\"text-align: right;\">\n",
       "      <th></th>\n",
       "      <th>prop_address_zipcode_1</th>\n",
       "      <th>pin</th>\n",
       "      <th>year</th>\n",
       "      <th>board_tot</th>\n",
       "    </tr>\n",
       "  </thead>\n",
       "  <tbody>\n",
       "    <tr>\n",
       "      <th>0</th>\n",
       "      <td>60618</td>\n",
       "      <td>13232020401002</td>\n",
       "      <td>2020</td>\n",
       "      <td>31000</td>\n",
       "    </tr>\n",
       "    <tr>\n",
       "      <th>1</th>\n",
       "      <td>60618</td>\n",
       "      <td>14183000410000</td>\n",
       "      <td>2020</td>\n",
       "      <td>27239</td>\n",
       "    </tr>\n",
       "    <tr>\n",
       "      <th>2</th>\n",
       "      <td>60618</td>\n",
       "      <td>13241190400000</td>\n",
       "      <td>2017</td>\n",
       "      <td>59315</td>\n",
       "    </tr>\n",
       "    <tr>\n",
       "      <th>3</th>\n",
       "      <td>60618</td>\n",
       "      <td>13261300210000</td>\n",
       "      <td>2017</td>\n",
       "      <td>27274</td>\n",
       "    </tr>\n",
       "    <tr>\n",
       "      <th>4</th>\n",
       "      <td>60618</td>\n",
       "      <td>14193290571023</td>\n",
       "      <td>2017</td>\n",
       "      <td>3655</td>\n",
       "    </tr>\n",
       "    <tr>\n",
       "      <th>5</th>\n",
       "      <td>60618</td>\n",
       "      <td>14191150230000</td>\n",
       "      <td>2020</td>\n",
       "      <td>78990</td>\n",
       "    </tr>\n",
       "    <tr>\n",
       "      <th>6</th>\n",
       "      <td>60618</td>\n",
       "      <td>13133130290000</td>\n",
       "      <td>2017</td>\n",
       "      <td>48529</td>\n",
       "    </tr>\n",
       "    <tr>\n",
       "      <th>7</th>\n",
       "      <td>60618</td>\n",
       "      <td>14183150360000</td>\n",
       "      <td>2017</td>\n",
       "      <td>99909</td>\n",
       "    </tr>\n",
       "    <tr>\n",
       "      <th>8</th>\n",
       "      <td>60618</td>\n",
       "      <td>14191180330000</td>\n",
       "      <td>2020</td>\n",
       "      <td>59703</td>\n",
       "    </tr>\n",
       "    <tr>\n",
       "      <th>9</th>\n",
       "      <td>60618</td>\n",
       "      <td>14191220380000</td>\n",
       "      <td>2020</td>\n",
       "      <td>76074</td>\n",
       "    </tr>\n",
       "  </tbody>\n",
       "</table>\n",
       "</div>"
      ],
      "text/plain": [
       "  prop_address_zipcode_1             pin  year board_tot\n",
       "0                  60618  13232020401002  2020     31000\n",
       "1                  60618  14183000410000  2020     27239\n",
       "2                  60618  13241190400000  2017     59315\n",
       "3                  60618  13261300210000  2017     27274\n",
       "4                  60618  14193290571023  2017      3655\n",
       "5                  60618  14191150230000  2020     78990\n",
       "6                  60618  13133130290000  2017     48529\n",
       "7                  60618  14183150360000  2017     99909\n",
       "8                  60618  14191180330000  2020     59703\n",
       "9                  60618  14191220380000  2020     76074"
      ]
     },
     "execution_count": 97,
     "metadata": {},
     "output_type": "execute_result"
    }
   ],
   "source": [
    "merged_df = pd.merge(final_zip, final_pin, on=[\"pin\", \"year\"])\n",
    "merged_df.head(10)"
   ]
  },
  {
   "cell_type": "code",
   "execution_count": 98,
   "id": "45b751b8",
   "metadata": {},
   "outputs": [
    {
     "data": {
      "text/plain": [
       "prop_address_zipcode_1  year\n",
       "60608                   2016    25235.443032\n",
       "                        2017    26660.130075\n",
       "                        2018    26613.571975\n",
       "                        2019    34934.836695\n",
       "                        2020    31044.603919\n",
       "                        2021     9038.000000\n",
       "60614                   2016    58158.537581\n",
       "                        2017    56926.231730\n",
       "                        2018    63329.586314\n",
       "                        2019    67577.064419\n",
       "                        2020    66467.909799\n",
       "60618                   2016    37792.898153\n",
       "                        2017    38214.435154\n",
       "                        2018    42071.998525\n",
       "                        2019    50137.198347\n",
       "                        2020    45226.915064\n",
       "60624                   2016    14529.363871\n",
       "                        2017    15217.096215\n",
       "                        2018    14262.767271\n",
       "                        2019    16215.984305\n",
       "                        2020    14288.940489\n",
       "60625                   2016    32469.958433\n",
       "                        2017    33479.928814\n",
       "                        2018    39947.969732\n",
       "                        2019    39640.373632\n",
       "                        2020    35513.491750\n",
       "60647                   2016    35555.249345\n",
       "                        2017    37027.351928\n",
       "                        2018    42781.864329\n",
       "                        2019    43121.998489\n",
       "Name: board_tot_num, dtype: float64"
      ]
     },
     "execution_count": 98,
     "metadata": {},
     "output_type": "execute_result"
    }
   ],
   "source": [
    "modified_df = merged_df\n",
    "modified_df['board_tot_num'] = modified_df['board_tot'].astype('int')\n",
    "mean_zip = modified_df.groupby(['prop_address_zipcode_1', 'year'])['board_tot_num'].mean()\n",
    "mean_zip.head(30)"
   ]
  },
  {
   "cell_type": "code",
   "execution_count": 99,
   "id": "3b6397c0",
   "metadata": {},
   "outputs": [
    {
     "name": "stdout",
     "output_type": "stream",
     "text": [
      "75133\n",
      "74942\n",
      "191\n"
     ]
    }
   ],
   "source": [
    "print(final_zip['pin'].nunique())\n",
    "print(final_pin['pin'].nunique())\n",
    "remaining_pins = list(set(final_zip.pin) - set(final_pin.pin))\n",
    "print(len(remaining_pins))"
   ]
  },
  {
   "cell_type": "code",
   "execution_count": 100,
   "id": "697285dc",
   "metadata": {},
   "outputs": [],
   "source": [
    "final_zip.to_csv(\"final_zip.csv\", encoding='utf-8', index=False)\n",
    "final_pin.to_csv(\"final_pin.csv\", encoding='utf-8', index=False)\n",
    "merged_df.to_csv(\"merged_df.csv\", encoding='utf-8', index=False)"
   ]
  },
  {
   "cell_type": "code",
   "execution_count": 144,
   "id": "0bf544f7",
   "metadata": {},
   "outputs": [],
   "source": [
    "df_60618 = merged_df.loc[merged_df[\"prop_address_zipcode_1\"] == \"60618\"]\n",
    "df_60647 = merged_df.loc[merged_df[\"prop_address_zipcode_1\"] == \"60647\"]\n",
    "df_60625 = merged_df.loc[merged_df[\"prop_address_zipcode_1\"] == \"60625\"]\n",
    "df_60608 = merged_df.loc[merged_df[\"prop_address_zipcode_1\"] == \"60608\"]\n",
    "df_60624 = merged_df.loc[merged_df[\"prop_address_zipcode_1\"] == \"60624\"]\n",
    "df_60614 = merged_df.loc[merged_df[\"prop_address_zipcode_1\"] == \"60614\"]"
   ]
  },
  {
   "cell_type": "code",
   "execution_count": 149,
   "id": "aa331027",
   "metadata": {},
   "outputs": [
    {
     "name": "stdout",
     "output_type": "stream",
     "text": [
      "60618 Low Quartile: 23772.25\n",
      "60618 Mean: 35297.416666666664\n",
      "60618 High Quartile: 48339.0\n",
      "60618 Outliers: Below -13077.875 And Above 85189.125\n"
     ]
    }
   ],
   "source": [
    "#60618\n",
    "\n",
    "df_60618_final = df_60618[\"board_tot_num\"]\n",
    "\n",
    "df_60618_quartiles = df_60618_final.quantile([.25,.5,.75])\n",
    "df_60618_low_quartile = df_60618_quartiles[.25]\n",
    "df_60618_high_quartile = df_60618_quartiles[.75]\n",
    "df_60618_mean = df_60618_quartiles.mean()\n",
    "df_60618_iqr = df_60618_high_quartile-df_60618_low_quartile\n",
    "df_60618_lower_bound = df_60618_low_quartile - (1.5*df_60618_iqr)\n",
    "df_60618_upper_bound = df_60618_high_quartile + (1.5*df_60618_iqr)\n",
    "df_60618_outliers = df_60618_quartiles.loc[(df_60618_quartiles < df_60618_lower_bound) & (df_60618_quartiles > df_60618_upper_bound)]\n",
    "\n",
    "print(f\"60618 Low Quartile: {df_60618_low_quartile}\")\n",
    "print(f\"60618 Mean: {df_60618_mean}\")\n",
    "print(f\"60618 High Quartile: {df_60618_high_quartile}\")\n",
    "print(f\"60618 Outliers: Below {df_60618_lower_bound} And Above {df_60618_upper_bound}\")\n",
    "\n"
   ]
  },
  {
   "cell_type": "code",
   "execution_count": 150,
   "id": "c8f78e9d",
   "metadata": {},
   "outputs": [
    {
     "name": "stdout",
     "output_type": "stream",
     "text": [
      "60647 Low Quartile: 20276.25\n",
      "60647 Mean: 33381.916666666664\n",
      "60647 High Quartile: 47562.5\n",
      "60647 Outliers: Below -21817.875 And Above 89656.625\n"
     ]
    }
   ],
   "source": [
    "#60647\n",
    "\n",
    "df_60647_final = df_60647[\"board_tot_num\"]\n",
    "\n",
    "df_60647_quartiles = df_60647_final.quantile([.25,.5,.75])\n",
    "df_60647_low_quartile = df_60647_quartiles[.25]\n",
    "df_60647_high_quartile = df_60647_quartiles[.75]\n",
    "df_60647_mean = df_60647_quartiles.mean()\n",
    "df_60647_iqr = df_60618_high_quartile-df_60647_low_quartile\n",
    "df_60647_lower_bound = df_60647_low_quartile - (1.5*df_60647_iqr)\n",
    "df_60647_upper_bound = df_60647_high_quartile + (1.5*df_60647_iqr)\n",
    "df_60647_outliers = df_60647_quartiles.loc[(df_60618_quartiles < df_60647_lower_bound) & (df_60647_quartiles > df_60647_upper_bound)]\n",
    "\n",
    "print(f\"60647 Low Quartile: {df_60647_low_quartile}\")\n",
    "print(f\"60647 Mean: {df_60647_mean}\")\n",
    "print(f\"60647 High Quartile: {df_60647_high_quartile}\")\n",
    "print(f\"60647 Outliers: Below {df_60647_lower_bound} And Above {df_60647_upper_bound}\")\n"
   ]
  },
  {
   "cell_type": "code",
   "execution_count": 151,
   "id": "5abbffdc",
   "metadata": {},
   "outputs": [
    {
     "name": "stdout",
     "output_type": "stream",
     "text": [
      "60625 Low Quartile: 15038.25\n",
      "60625 Mean: 30393.5\n",
      "60625 High Quartile: 46058.25\n",
      "60625 Outliers: Below -31491.75 And Above 92588.25\n"
     ]
    }
   ],
   "source": [
    "#60625\n",
    "\n",
    "df_60625_final = df_60625[\"board_tot_num\"]\n",
    "\n",
    "df_60625_quartiles = df_60625_final.quantile([.25,.5,.75])\n",
    "df_60625_low_quartile = df_60625_quartiles[.25]\n",
    "df_60625_high_quartile = df_60625_quartiles[.75]\n",
    "df_60625_mean = df_60625_quartiles.mean()\n",
    "df_60625_iqr = df_60625_high_quartile-df_60625_low_quartile\n",
    "df_60625_lower_bound = df_60625_low_quartile - (1.5*df_60625_iqr)\n",
    "df_60625_upper_bound = df_60625_high_quartile + (1.5*df_60625_iqr)\n",
    "df_60625_outliers = df_60625_quartiles.loc[(df_60625_quartiles < df_60625_lower_bound) & (df_60625_quartiles > df_60625_upper_bound)]\n",
    "\n",
    "print(f\"60625 Low Quartile: {df_60625_low_quartile}\")\n",
    "print(f\"60625 Mean: {df_60625_mean}\")\n",
    "print(f\"60625 High Quartile: {df_60625_high_quartile}\")\n",
    "print(f\"60625 Outliers: Below {df_60625_lower_bound} And Above {df_60625_upper_bound}\")\n"
   ]
  },
  {
   "cell_type": "code",
   "execution_count": 155,
   "id": "1a6c4a42",
   "metadata": {},
   "outputs": [
    {
     "name": "stdout",
     "output_type": "stream",
     "text": [
      "60608 Low Quartile: 9986.5\n",
      "60608 Mean: 20090.5\n",
      "60608 High Quartile: 29047.0\n",
      "60608 Outliers: Below -18604.25 And Above 57637.75\n"
     ]
    }
   ],
   "source": [
    "#60608\n",
    "\n",
    "df_60608_final = df_60608[\"board_tot_num\"]\n",
    "\n",
    "df_60608_quartiles = df_60608_final.quantile([.25,.5,.75])\n",
    "df_60608_low_quartile = df_60608_quartiles[.25]\n",
    "df_60608_high_quartile = df_60608_quartiles[.75]\n",
    "df_60608_mean = df_60608_quartiles.mean()\n",
    "df_60608_iqr = df_60608_high_quartile-df_60608_low_quartile\n",
    "df_60608_lower_bound = df_60608_low_quartile - (1.5*df_60608_iqr)\n",
    "df_60608_upper_bound = df_60608_high_quartile + (1.5*df_60608_iqr)\n",
    "df_60608_outliers = df_60608_quartiles.loc[(df_60608_quartiles < df_60608_lower_bound) & (df_60608_quartiles > df_60608_upper_bound)]\n",
    "\n",
    "print(f\"60608 Low Quartile: {df_60608_low_quartile}\")\n",
    "print(f\"60608 Mean: {df_60608_mean}\")\n",
    "print(f\"60608 High Quartile: {df_60608_high_quartile}\")\n",
    "print(f\"60608 Outliers: Below {df_60608_lower_bound} And Above {df_60608_upper_bound}\")\n"
   ]
  },
  {
   "cell_type": "code",
   "execution_count": 156,
   "id": "652693f7",
   "metadata": {},
   "outputs": [
    {
     "name": "stdout",
     "output_type": "stream",
     "text": [
      "60624 Low Quartile: 3583.0\n",
      "60624 Mean: 10780.166666666666\n",
      "60624 High Quartile: 17500.5\n",
      "60624 Outliers: Below -17293.25 And Above 38376.75\n"
     ]
    }
   ],
   "source": [
    "#60624\n",
    "\n",
    "df_60624_final = df_60624[\"board_tot_num\"]\n",
    "\n",
    "df_60624_quartiles = df_60624_final.quantile([.25,.5,.75])\n",
    "df_60624_low_quartile = df_60624_quartiles[.25]\n",
    "df_60624_high_quartile = df_60624_quartiles[.75]\n",
    "df_60624_mean = df_60624_quartiles.mean()\n",
    "df_60624_iqr = df_60624_high_quartile-df_60624_low_quartile\n",
    "df_60624_lower_bound = df_60624_low_quartile - (1.5*df_60624_iqr)\n",
    "df_60624_upper_bound = df_60624_high_quartile + (1.5*df_60624_iqr)\n",
    "df_60624_outliers = df_60624_quartiles.loc[(df_60624_quartiles < df_60624_lower_bound) & (df_60624_quartiles > df_60624_upper_bound)]\n",
    "\n",
    "print(f\"60624 Low Quartile: {df_60624_low_quartile}\")\n",
    "print(f\"60624 Mean: {df_60624_mean}\")\n",
    "print(f\"60624 High Quartile: {df_60624_high_quartile}\")\n",
    "print(f\"60624 Outliers: Below {df_60624_lower_bound} And Above {df_60624_upper_bound}\")\n",
    "\n"
   ]
  },
  {
   "cell_type": "code",
   "execution_count": 157,
   "id": "9bd0be78",
   "metadata": {},
   "outputs": [
    {
     "name": "stdout",
     "output_type": "stream",
     "text": [
      "60614 Low Quartile: 17903.5\n",
      "60614 Mean: 43527.333333333336\n",
      "60614 High Quartile: 74588.0\n",
      "60614 Outliers: Below -67123.25 And Above 159614.75\n"
     ]
    }
   ],
   "source": [
    "#60614\n",
    "\n",
    "df_60614_final = df_60614[\"board_tot_num\"]\n",
    "\n",
    "df_60614_quartiles = df_60614_final.quantile([.25,.5,.75])\n",
    "df_60614_low_quartile = df_60614_quartiles[.25]\n",
    "df_60614_high_quartile = df_60614_quartiles[.75]\n",
    "df_60614_mean = df_60614_quartiles.mean()\n",
    "df_60614_iqr = df_60614_high_quartile-df_60614_low_quartile\n",
    "df_60614_lower_bound = df_60614_low_quartile - (1.5*df_60614_iqr)\n",
    "df_60614_upper_bound = df_60614_high_quartile + (1.5*df_60614_iqr)\n",
    "df_60614_outliers = df_60614_quartiles.loc[(df_60614_quartiles < df_60614_lower_bound) & (df_60614_quartiles > df_60614_upper_bound)]\n",
    "\n",
    "print(f\"60614 Low Quartile: {df_60614_low_quartile}\")\n",
    "print(f\"60614 Mean: {df_60614_mean}\")\n",
    "print(f\"60614 High Quartile: {df_60614_high_quartile}\")\n",
    "print(f\"60614 Outliers: Below {df_60614_lower_bound} And Above {df_60614_upper_bound}\")\n",
    "\n",
    "\n"
   ]
  },
  {
   "cell_type": "code",
   "execution_count": 173,
   "id": "70826df6",
   "metadata": {},
   "outputs": [
    {
     "data": {
      "image/png": "[encoded data removed]",
      "text/plain": [
       "<Figure size 432x288 with 1 Axes>"
      ]
     },
     "metadata": {
      "needs_background": "light"
     },
     "output_type": "display_data"
    }
   ],
   "source": [
    "data = [df_60608_final, df_60614_final, df_60618_final, df_60624_final, df_60625_final, df_60647_final]\n",
    "zipcodes = [\"60608\", \"60614\", \"60618\", \"60624\", \"60625\", \"60647\"]\n",
    "figl, axl = plt.subplots()\n",
    "axl.set_title(\"Assessed Values Prices by Zipcode\")\n",
    "axl.set_ylabel(\"Assessed Values\")\n",
    "axl.set_xlabel(\"Zipcodes\")\n",
    "ymin = 0\n",
    "ymax = 90000\n",
    "plt.ylim(ymin, ymax)\n",
    "axl.boxplot(data, labels=zipcodes)\n",
    "plt.show()"
   ]
  },
  {
   "cell_type": "code",
   "execution_count": null,
   "id": "6be330e0",
   "metadata": {},
   "outputs": [],
   "source": []
  }
 ],
 "metadata": {
  "kernelspec": {
   "display_name": "Python 3 (ipykernel)",
   "language": "python",
   "name": "python3"
  },
  "language_info": {
   "codemirror_mode": {
    "name": "ipython",
    "version": 3
   },
   "file_extension": ".py",
   "mimetype": "text/x-python",
   "name": "python",
   "nbconvert_exporter": "python",
   "pygments_lexer": "ipython3",
   "version": "3.7.7"
  }
 },
 "nbformat": 4,
 "nbformat_minor": 5
}
