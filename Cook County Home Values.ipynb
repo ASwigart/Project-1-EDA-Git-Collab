{
 "cells": [
  {
   "cell_type": "code",
   "execution_count": null,
   "id": "7e9bfa02",
   "metadata": {},
   "outputs": [],
   "source": [
    "#Dependencies\n",
    "import matplotlib.pyplot as plt\n",
    "import requests\n",
    "from pprint import pprint\n",
    "from scipy import stats\n",
    "import pandas as pd\n",
    "import numpy as np\n",
    "from api_keys import api_key\n",
    "import json"
   ]
  },
  {
   "cell_type": "code",
   "execution_count": null,
   "id": "f1ee7d6b",
   "metadata": {},
   "outputs": [],
   "source": [
    "# !pip install sodapy"
   ]
  },
  {
   "cell_type": "code",
   "execution_count": null,
   "id": "cfc8edc4",
   "metadata": {},
   "outputs": [],
   "source": [
    "# from sodapy import Socrata\n",
    "\n",
    "# client = Socrata(\"datacatalog.cookcountyil.gov\", \"a5adtglEZdwTXbUuRvAvPXv59\")"
   ]
  },
  {
   "cell_type": "code",
   "execution_count": null,
   "id": "5cef70c0",
   "metadata": {},
   "outputs": [],
   "source": [
    "# zip_df = clean_zipcode_response(results)\n",
    "# zip_df.head(10)"
   ]
  },
  {
   "cell_type": "code",
   "execution_count": null,
   "id": "df594a4e",
   "metadata": {},
   "outputs": [],
   "source": [
    "#List of zipcodes we want to look at\n",
    "\n",
    "zipcodes = [60618, 60647, 60625, 60608, 60624, 60614]\n"
   ]
  },
  {
   "cell_type": "code",
   "execution_count": null,
   "id": "c202895b",
   "metadata": {},
   "outputs": [],
   "source": [
    "#Declare function\n",
    "\n",
    "def clean_zipcode_response(api_response):\n",
    "    df = pd.DataFrame(api_response)\n",
    "    df[\"year\"] = df[\"year\"].astype('int')\n",
    "    df_limited_cols = df[[\"prop_address_zipcode_1\", \"pin\", \"year\"]]\n",
    "    return df_limited_cols"
   ]
  },
  {
   "cell_type": "code",
   "execution_count": null,
   "id": "79660cb9",
   "metadata": {},
   "outputs": [],
   "source": [
    "#Loop zipcodes through \n",
    "\n",
    "final_zip = pd.DataFrame(columns = [\"prop_address_zipcode_1\", \"pin\", \"year\"])\n",
    "\n",
    "for zipcode in zipcodes:\n",
    "    universe_response = .geclientt(\"tx2p-k2g9\",prop_address_zipcode_1={zipcode}, where=\"year > 2015\", limit=20000) #50,000\n",
    "    df_zip = clean_zipcode_response(universe_response)\n",
    "    final_zip = final_zip.append(df_zip)\n",
    "final_zip.head(10)"
   ]
  },
  {
   "cell_type": "code",
   "execution_count": null,
   "id": "bd9a8ef6",
   "metadata": {},
   "outputs": [],
   "source": [
    "#Declare function\n",
    "\n",
    "def clean_pin_response(api_response):\n",
    "    df = pd.DataFrame(api_response)\n",
    "    if \"year\" not in df:\n",
    "        return pd.DataFrame(columns = [\"pin\", \"year\", \"board_tot\"])\n",
    "    df[\"year\"] = df[\"year\"].astype('int')\n",
    "    if \"board_tot\" not in df:\n",
    "        return pd.DataFrame(columns = [\"pin\", \"year\", \"board_tot\"])\n",
    "    df_limited_cols = df[[\"pin\", \"year\", \"board_tot\"]]\n",
    "    df_limited_cols = df_limited_cols.dropna()\n",
    "    df_final = df_limited_cols[df_limited_cols[\"year\"] > 2015]\n",
    "    return df_final"
   ]
  },
  {
   "cell_type": "code",
   "execution_count": null,
   "id": "a16a6942",
   "metadata": {},
   "outputs": [],
   "source": [
    "#Loop pins through\n",
    "\n",
    "pins = final_zip.pin.unique()\n",
    "\n",
    "#board_tot is total assessed value \n",
    "\n",
    "# final_pin = pd.DataFrame(columns = [\"pin\", \"year\", \"board_tot\"])\n",
    "\n",
    "for pin in remaining_pins:\n",
    "    historic_url = f\"https://datacatalog.cookcountyil.gov/resource/uzyt-m557.json?pin={pin}\"\n",
    "    historic_response = requests.get(historic_url).json()\n",
    "    columns = [\"pin\", \"year\", \"board_tot\"]\n",
    "    final_pin = final_pin.reindex(columns=columns)\n",
    "    df_pin = clean_pin_response(historic_response)\n",
    "    final_pin = final_pin.append(df_pin)\n",
    "final_pin.head(10)"
   ]
  },
  {
   "cell_type": "code",
   "execution_count": null,
   "id": "1fc4799a",
   "metadata": {},
   "outputs": [],
   "source": [
    "#Merge the zipcodes with the pins\n",
    "\n",
    "merged_df = pd.merge(final_zip, final_pin, on=[\"pin\", \"year\"])\n",
    "merged_df.head(10)"
   ]
  },
  {
   "cell_type": "code",
   "execution_count": null,
   "id": "abd17598",
   "metadata": {},
   "outputs": [],
   "source": [
    "#Save board_tot as int\n",
    "\n",
    "modified_df = merged_df\n",
    "modified_df['board_tot_num'] = modified_df['board_tot'].astype('int')\n",
    "mean_zip = modified_df.groupby(['prop_address_zipcode_1', 'year'])['board_tot_num'].mean()\n",
    "mean_zip.head(30)"
   ]
  },
  {
   "cell_type": "code",
   "execution_count": null,
   "id": "26840ad7",
   "metadata": {},
   "outputs": [],
   "source": [
    "#Check output\n",
    "\n",
    "print(final_zip['pin'].nunique())\n",
    "print(final_pin['pin'].nunique())\n",
    "remaining_pins = list(set(final_zip.pin) - set(final_pin.pin))\n",
    "print(len(remaining_pins))"
   ]
  },
  {
   "cell_type": "code",
   "execution_count": null,
   "id": "b5492a84",
   "metadata": {},
   "outputs": [],
   "source": [
    "#Convert to CSVs\n",
    "\n",
    "final_zip.to_csv(\"final_zip.csv\", encoding='utf-8', index=False)\n",
    "final_pin.to_csv(\"final_pin.csv\", encoding='utf-8', index=False)\n",
    "merged_df.to_csv(\"merged_df.csv\", encoding='utf-8', index=False)"
   ]
  },
  {
   "cell_type": "code",
   "execution_count": null,
   "id": "73748cff",
   "metadata": {},
   "outputs": [],
   "source": [
    "#make individual Dfs for zips\n",
    "\n",
    "df_60618 = merged_df.loc[merged_df[\"prop_address_zipcode_1\"] == 60618]\n",
    "df_60647 = merged_df.loc[merged_df[\"prop_address_zipcode_1\"] == 60647]\n",
    "df_60625 = merged_df.loc[merged_df[\"prop_address_zipcode_1\"] == 60625]\n",
    "df_60608 = merged_df.loc[merged_df[\"prop_address_zipcode_1\"] == 60608]\n",
    "df_60624 = merged_df.loc[merged_df[\"prop_address_zipcode_1\"] == 60624]\n",
    "df_60614 = merged_df.loc[merged_df[\"prop_address_zipcode_1\"] == 60614]"
   ]
  },
  {
   "cell_type": "code",
   "execution_count": null,
   "id": "3ecac090",
   "metadata": {},
   "outputs": [],
   "source": [
    "#60618\n",
    "\n",
    "df_60618_final = df_60618[\"board_tot_num\"]\n",
    "\n",
    "df_60618_quartiles = df_60618_final.quantile([.25,.5,.75])\n",
    "df_60618_low_quartile = df_60618_quartiles[.25]\n",
    "df_60618_high_quartile = df_60618_quartiles[.75]\n",
    "df_60618_mean = df_60618_quartiles.mean()\n",
    "df_60618_iqr = df_60618_high_quartile-df_60618_low_quartile\n",
    "df_60618_lower_bound = df_60618_low_quartile - (1.5*df_60618_iqr)\n",
    "df_60618_upper_bound = df_60618_high_quartile + (1.5*df_60618_iqr)\n",
    "df_60618_outliers = df_60618_quartiles.loc[(df_60618_quartiles < df_60618_lower_bound) & (df_60618_quartiles > df_60618_upper_bound)]\n",
    "\n",
    "print(f\"60618 Low Quartile: {df_60618_low_quartile}\")\n",
    "print(f\"60618 Mean: {df_60618_mean}\")\n",
    "print(f\"60618 High Quartile: {df_60618_high_quartile}\")\n",
    "print(f\"60618 Outliers: Below {df_60618_lower_bound} And Above {df_60618_upper_bound}\")\n",
    "\n"
   ]
  },
  {
   "cell_type": "code",
   "execution_count": null,
   "id": "8815d134",
   "metadata": {},
   "outputs": [],
   "source": [
    "#60647\n",
    "\n",
    "df_60647_final = df_60647[\"board_tot_num\"]\n",
    "\n",
    "df_60647_quartiles = df_60647_final.quantile([.25,.5,.75])\n",
    "df_60647_low_quartile = df_60647_quartiles[.25]\n",
    "df_60647_high_quartile = df_60647_quartiles[.75]\n",
    "df_60647_mean = df_60647_quartiles.mean()\n",
    "df_60647_iqr = df_60618_high_quartile-df_60647_low_quartile\n",
    "df_60647_lower_bound = df_60647_low_quartile - (1.5*df_60647_iqr)\n",
    "df_60647_upper_bound = df_60647_high_quartile + (1.5*df_60647_iqr)\n",
    "df_60647_outliers = df_60647_quartiles.loc[(df_60618_quartiles < df_60647_lower_bound) & (df_60647_quartiles > df_60647_upper_bound)]\n",
    "\n",
    "print(f\"60647 Low Quartile: {df_60647_low_quartile}\")\n",
    "print(f\"60647 Mean: {df_60647_mean}\")\n",
    "print(f\"60647 High Quartile: {df_60647_high_quartile}\")\n",
    "print(f\"60647 Outliers: Below {df_60647_lower_bound} And Above {df_60647_upper_bound}\")\n"
   ]
  },
  {
   "cell_type": "code",
   "execution_count": null,
   "id": "040040d9",
   "metadata": {},
   "outputs": [],
   "source": [
    "#60625\n",
    "\n",
    "df_60625_final = df_60625[\"board_tot_num\"]\n",
    "\n",
    "df_60625_quartiles = df_60625_final.quantile([.25,.5,.75])\n",
    "df_60625_low_quartile = df_60625_quartiles[.25]\n",
    "df_60625_high_quartile = df_60625_quartiles[.75]\n",
    "df_60625_mean = df_60625_quartiles.mean()\n",
    "df_60625_iqr = df_60625_high_quartile-df_60625_low_quartile\n",
    "df_60625_lower_bound = df_60625_low_quartile - (1.5*df_60625_iqr)\n",
    "df_60625_upper_bound = df_60625_high_quartile + (1.5*df_60625_iqr)\n",
    "df_60625_outliers = df_60625_quartiles.loc[(df_60625_quartiles < df_60625_lower_bound) & (df_60625_quartiles > df_60625_upper_bound)]\n",
    "\n",
    "print(f\"60625 Low Quartile: {df_60625_low_quartile}\")\n",
    "print(f\"60625 Mean: {df_60625_mean}\")\n",
    "print(f\"60625 High Quartile: {df_60625_high_quartile}\")\n",
    "print(f\"60625 Outliers: Below {df_60625_lower_bound} And Above {df_60625_upper_bound}\")\n"
   ]
  },
  {
   "cell_type": "code",
   "execution_count": null,
   "id": "3e6a5ab3",
   "metadata": {},
   "outputs": [],
   "source": [
    "#60608\n",
    "\n",
    "df_60608_final = df_60608[\"board_tot_num\"]\n",
    "\n",
    "df_60608_quartiles = df_60608_final.quantile([.25,.5,.75])\n",
    "df_60608_low_quartile = df_60608_quartiles[.25]\n",
    "df_60608_high_quartile = df_60608_quartiles[.75]\n",
    "df_60608_mean = df_60608_quartiles.mean()\n",
    "df_60608_iqr = df_60608_high_quartile-df_60608_low_quartile\n",
    "df_60608_lower_bound = df_60608_low_quartile - (1.5*df_60608_iqr)\n",
    "df_60608_upper_bound = df_60608_high_quartile + (1.5*df_60608_iqr)\n",
    "df_60608_outliers = df_60608_quartiles.loc[(df_60608_quartiles < df_60608_lower_bound) & (df_60608_quartiles > df_60608_upper_bound)]\n",
    "\n",
    "print(f\"60608 Low Quartile: {df_60608_low_quartile}\")\n",
    "print(f\"60608 Mean: {df_60608_mean}\")\n",
    "print(f\"60608 High Quartile: {df_60608_high_quartile}\")\n",
    "print(f\"60608 Outliers: Below {df_60608_lower_bound} And Above {df_60608_upper_bound}\")\n"
   ]
  },
  {
   "cell_type": "code",
   "execution_count": null,
   "id": "edc4f79f",
   "metadata": {},
   "outputs": [],
   "source": [
    "#60624\n",
    "\n",
    "df_60624_final = df_60624[\"board_tot_num\"]\n",
    "\n",
    "df_60624_quartiles = df_60624_final.quantile([.25,.5,.75])\n",
    "df_60624_low_quartile = df_60624_quartiles[.25]\n",
    "df_60624_high_quartile = df_60624_quartiles[.75]\n",
    "df_60624_mean = df_60624_quartiles.mean()\n",
    "df_60624_iqr = df_60624_high_quartile-df_60624_low_quartile\n",
    "df_60624_lower_bound = df_60624_low_quartile - (1.5*df_60624_iqr)\n",
    "df_60624_upper_bound = df_60624_high_quartile + (1.5*df_60624_iqr)\n",
    "df_60624_outliers = df_60624_quartiles.loc[(df_60624_quartiles < df_60624_lower_bound) & (df_60624_quartiles > df_60624_upper_bound)]\n",
    "\n",
    "print(f\"60624 Low Quartile: {df_60624_low_quartile}\")\n",
    "print(f\"60624 Mean: {df_60624_mean}\")\n",
    "print(f\"60624 High Quartile: {df_60624_high_quartile}\")\n",
    "print(f\"60624 Outliers: Below {df_60624_lower_bound} And Above {df_60624_upper_bound}\")\n",
    "\n"
   ]
  },
  {
   "cell_type": "code",
   "execution_count": null,
   "id": "57c27a0d",
   "metadata": {},
   "outputs": [],
   "source": [
    "#60614\n",
    "\n",
    "df_60614_final = df_60614[\"board_tot_num\"]\n",
    "\n",
    "df_60614_quartiles = df_60614_final.quantile([.25,.5,.75])\n",
    "df_60614_low_quartile = df_60614_quartiles[.25]\n",
    "df_60614_high_quartile = df_60614_quartiles[.75]\n",
    "df_60614_mean = df_60614_quartiles.mean()\n",
    "df_60614_iqr = df_60614_high_quartile-df_60614_low_quartile\n",
    "df_60614_lower_bound = df_60614_low_quartile - (1.5*df_60614_iqr)\n",
    "df_60614_upper_bound = df_60614_high_quartile + (1.5*df_60614_iqr)\n",
    "df_60614_outliers = df_60614_quartiles.loc[(df_60614_quartiles < df_60614_lower_bound) & (df_60614_quartiles > df_60614_upper_bound)]\n",
    "\n",
    "print(f\"60614 Low Quartile: {df_60614_low_quartile}\")\n",
    "print(f\"60614 Mean: {df_60614_mean}\")\n",
    "print(f\"60614 High Quartile: {df_60614_high_quartile}\")\n",
    "print(f\"60614 Outliers: Below {df_60614_lower_bound} And Above {df_60614_upper_bound}\")\n",
    "\n",
    "\n"
   ]
  },
  {
   "cell_type": "code",
   "execution_count": null,
   "id": "2dc04de2",
   "metadata": {},
   "outputs": [],
   "source": [
    "#Create boxplot\n",
    "\n",
    "data = [df_60608_final, df_60614_final, df_60618_final, df_60624_final, df_60625_final, df_60647_final]\n",
    "zipcodes = [\"60608\", \"60614\", \"60618\", \"60624\", \"60625\", \"60647\"]\n",
    "figl, axl = plt.subplots()\n",
    "axl.set_title(\"Assessed Values Prices by Zipcode\")\n",
    "axl.set_ylabel(\"Assessed Values\")\n",
    "axl.set_xlabel(\"Zipcodes\")\n",
    "ymin = 0\n",
    "ymax = 90000\n",
    "plt.ylim(ymin, ymax)\n",
    "axl.boxplot(data, labels=zipcodes)\n",
    "plt.show()"
   ]
  },
  {
   "cell_type": "code",
   "execution_count": null,
   "id": "daee1548",
   "metadata": {},
   "outputs": [],
   "source": [
    "# #ANOVA with the skew to mimic \n",
    "# data = [df_60625_final, df_60608_final, df_60618_final, df_60647_final, df_60624_final, df_60614_final]\n",
    "# zipcodes = [\"60625\", \"60608\", \"60618\", \"60647\", \"60624\", \"60614\"]\n",
    "# figl, axl = plt.subplots()\n",
    "# axl.set_title(\"Assessed Values Prices by Zipcode\")\n",
    "# axl.set_ylabel(\"Assessed Values\")\n",
    "# axl.set_xlabel(\"Zipcodes\")\n",
    "# ymin = 0\n",
    "# ymax = 90000\n",
    "# plt.ylim(ymin, ymax)\n",
    "# axl.boxplot(data, labels=zipcodes)\n",
    "# plt.show()\n"
   ]
<<<<<<< HEAD
=======
  },
  {
   "cell_type": "code",
   "execution_count": null,
   "id": "7f384883",
   "metadata": {},
   "outputs": [],
   "source": [
    "# #ANOVA with the skew to mimic \n",
    "# data = [df_60625_final, df_60608_final, df_60618_final, df_60647_final, df_60624_final, df_60614_final]\n",
    "# zipcodes = [\"60625\", \"60608\", \"60618\", \"60647\", \"60624\", \"60614\"]\n",
    "# figl, axl = plt.subplots()\n",
    "# axl.set_title(\"Assessed Values Prices by Zipcode\")\n",
    "# axl.set_ylabel(\"Assessed Values\")\n",
    "# axl.set_xlabel(\"Zipcodes\")\n",
    "# ymin = 0\n",
    "# ymax = 90000\n",
    "# plt.ylim(ymin, ymax)\n",
    "# axl.boxplot(data, labels=zipcodes)\n",
    "# plt.show()\n"
   ]
>>>>>>> 722a8c23fccfeed62d0a1ef7a094df99464334fb
  }
 ],
 "metadata": {
  "kernelspec": {
   "display_name": "Python 3 (ipykernel)",
   "language": "python",
   "name": "python3"
  },
  "language_info": {
   "codemirror_mode": {
    "name": "ipython",
    "version": 3
   },
   "file_extension": ".py",
   "mimetype": "text/x-python",
   "name": "python",
   "nbconvert_exporter": "python",
   "pygments_lexer": "ipython3",
   "version": "3.7.7"
  }
 },
 "nbformat": 4,
 "nbformat_minor": 5
}
